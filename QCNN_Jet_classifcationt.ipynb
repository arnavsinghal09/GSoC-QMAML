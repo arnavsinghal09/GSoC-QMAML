{
  "nbformat": 4,
  "nbformat_minor": 0,
  "metadata": {
    "colab": {
      "provenance": [],
      "machine_shape": "hm",
      "authorship_tag": "ABX9TyP4OwCyLmkfdms5iXB1R2E0",
      "include_colab_link": true
    },
    "kernelspec": {
      "name": "python3",
      "display_name": "Python 3"
    },
    "language_info": {
      "name": "python"
    }
  },
  "cells": [
    {
      "cell_type": "markdown",
      "metadata": {
        "id": "view-in-github",
        "colab_type": "text"
      },
      "source": [
        "<a href=\"https://colab.research.google.com/github/arnavsinghal09/GSoC-QMAML/blob/main/QCNN_Jet_classifcationt.ipynb\" target=\"_parent\"><img src=\"https://colab.research.google.com/assets/colab-badge.svg\" alt=\"Open In Colab\"/></a>"
      ]
    },
    {
      "cell_type": "code",
      "execution_count": 16,
      "metadata": {
        "id": "C0iE3igbmQ2X"
      },
      "outputs": [],
      "source": [
        "# Install necessary libraries\n",
        "!pip install pennylane h5py --quiet"
      ]
    },
    {
      "cell_type": "code",
      "source": [
        "# Standard imports\n",
        "import os\n",
        "import h5py\n",
        "import numpy as np\n",
        "import torch\n",
        "import torch.nn as nn\n",
        "import torch.optim as optim\n",
        "from torch.utils.data import DataLoader, Dataset\n",
        "import pennylane as qml\n",
        "import matplotlib.pyplot as plt\n",
        "from typing import Tuple, List, Dict, Any\n",
        "from dataclasses import dataclass\n",
        "from sklearn.metrics import (\n",
        "    accuracy_score,\n",
        "    precision_score,\n",
        "    recall_score,\n",
        "    f1_score,\n",
        "    classification_report,\n",
        "    confusion_matrix,\n",
        "    ConfusionMatrixDisplay,\n",
        ")\n",
        "from google.colab import drive\n",
        "drive.mount('/content/drive')\n",
        "# Ensure reproducibility\n",
        "torch.manual_seed(42)\n",
        "np.random.seed(42)"
      ],
      "metadata": {
        "colab": {
          "base_uri": "https://localhost:8080/"
        },
        "id": "Qu4SaRCPmSb_",
        "outputId": "a895e5f8-891f-448c-db5f-5c69789ebb4a"
      },
      "execution_count": 17,
      "outputs": [
        {
          "output_type": "stream",
          "name": "stdout",
          "text": [
            "Drive already mounted at /content/drive; to attempt to forcibly remount, call drive.mount(\"/content/drive\", force_remount=True).\n"
          ]
        }
      ]
    },
    {
      "cell_type": "code",
      "source": [
        "@dataclass\n",
        "class Config:\n",
        "    SAMPLES: int = 10000\n",
        "    NUM_QUBITS: int = 6  # Number of qubits for QCNN\n",
        "    Q_DEPTH: int = 4  # Depth of quantum layers\n",
        "    ENCODING_SCHEME: str = 'amplitude'  # Encoding scheme for input data\n",
        "    USE_ANALYTIC_GRADIENTS: bool = True\n",
        "    INNER_STEPS: int = 5\n",
        "    INNER_LR: float = 0.005\n",
        "    OUTER_LR: float = 0.0005\n",
        "    META_TASK_TYPE: str = 'both'\n",
        "    META_BIN_COUNT: int = 8\n",
        "    META_TASK_STRATEGY: str = 'binning'\n",
        "    SUPPORT_SIZE: int = 16\n",
        "    QUERY_SIZE: int = 16\n",
        "    EPOCHS: int = 10\n",
        "    BATCH_SIZE: int = 16\n",
        "    EVAL_METRICS: bool = True\n",
        "    USE_TEST2: bool = True\n",
        "    SAVE_BEST_MODEL: bool = True\n",
        "    CHECKPOINT_DIR: str = './checkpoints'\n",
        "\n",
        "config = Config()\n",
        "\n",
        "# Create checkpoint directory\n",
        "os.makedirs(config.CHECKPOINT_DIR, exist_ok=True)"
      ],
      "metadata": {
        "id": "I2bRxPcgmUO0"
      },
      "execution_count": 18,
      "outputs": []
    },
    {
      "cell_type": "code",
      "source": [
        "class JetDataset(Dataset):\n",
        "    \"\"\"Custom Dataset for loading jet images, labels, and additional features.\"\"\"\n",
        "    def __init__(self, X: np.ndarray, y: np.ndarray, pt: np.ndarray = None, m0: np.ndarray = None):\n",
        "        self.X = X\n",
        "        self.y = y\n",
        "        self.pt = pt\n",
        "        self.m0 = m0\n",
        "\n",
        "    def __len__(self) -> int:\n",
        "        return len(self.y)\n",
        "\n",
        "    def __getitem__(self, idx: int) -> Tuple[np.ndarray, int]:\n",
        "        return self.X[idx], self.y[idx]\n",
        "\n",
        "# Load and merge datasets\n",
        "def load_and_merge_datasets(config: Config) -> Tuple[Dataset, Dataset]:\n",
        "    \"\"\"Load and merge datasets for meta-task generation.\"\"\"\n",
        "    # Paths to datasets\n",
        "    train_path = '/content/drive/MyDrive/quark-gluon-dataset/quark-gluon_train-set_n793900.hdf5'\n",
        "    test1_path = '/content/drive/MyDrive/quark-gluon-dataset/quark-gluon_test-set_n139306.hdf5'\n",
        "    test2_path = '/content/drive/MyDrive/quark-gluon-dataset/quark-gluon_test-set_n10000.hdf5'\n",
        "\n",
        "    # Load train and test1 datasets\n",
        "    with h5py.File(train_path, 'r') as f:\n",
        "        X_train = f['X_jets'][:config.SAMPLES]\n",
        "        y_train = f['y'][:config.SAMPLES]\n",
        "        pt_train = f['pt'][:config.SAMPLES]\n",
        "        m0_train = f['m0'][:config.SAMPLES]\n",
        "\n",
        "    with h5py.File(test1_path, 'r') as f:\n",
        "        X_test1 = f['X_jets'][:config.SAMPLES]\n",
        "        y_test1 = f['y'][:config.SAMPLES]\n",
        "        pt_test1 = f['pt'][:config.SAMPLES]\n",
        "        m0_test1 = f['m0'][:config.SAMPLES]\n",
        "\n",
        "    # Merge train and test1\n",
        "    X_meta = np.concatenate([X_train, X_test1], axis=0)\n",
        "    y_meta = np.concatenate([y_train, y_test1], axis=0)\n",
        "    pt_meta = np.concatenate([pt_train, pt_test1], axis=0)\n",
        "    m0_meta = np.concatenate([m0_train, m0_test1], axis=0)\n",
        "\n",
        "    # Load test2 dataset\n",
        "    with h5py.File(test2_path, 'r') as f:\n",
        "        X_test2 = f['X'][:config.SAMPLES]  # Use 'X' instead of 'X_jets'\n",
        "        y_test2 = f['y'][:config.SAMPLES]\n",
        "\n",
        "    # Create datasets\n",
        "    meta_dataset = JetDataset(X_meta, y_meta, pt_meta, m0_meta)\n",
        "    test2_dataset = JetDataset(X_test2, y_test2)\n",
        "\n",
        "    return meta_dataset, test2_dataset\n",
        "\n",
        "# Load datasets\n",
        "meta_dataset, test2_dataset = load_and_merge_datasets(config)"
      ],
      "metadata": {
        "id": "kJcCN5gemVzW"
      },
      "execution_count": 19,
      "outputs": []
    },
    {
      "cell_type": "code",
      "source": [
        "# Generate meta-tasks\n",
        "def generate_meta_tasks(\n",
        "    dataset: Dataset,\n",
        "    meta_task_type: str,\n",
        "    bin_count: int,\n",
        "    support_size: int,\n",
        "    query_size: int,\n",
        "    strategy: str = 'binning',\n",
        "    num_tasks_per_bin: int = 3,  # Generate multiple tasks per bin\n",
        ") -> List[Dict[str, Any]]:\n",
        "    \"\"\"\n",
        "    Generate meta-tasks using both `pt` and `m0` features for diversity.\n",
        "    \"\"\"\n",
        "    X, y = [], []\n",
        "    for i in range(len(dataset)):\n",
        "        X_sample, y_sample = dataset[i]\n",
        "        # Flatten the input data to match the number of qubits\n",
        "        X_sample = X_sample.flatten()\n",
        "\n",
        "        # Pad or truncate the input data to match the required length for amplitude encoding\n",
        "        required_length = 2 ** config.NUM_QUBITS\n",
        "        if X_sample.size < required_length:\n",
        "            padding = np.zeros(required_length - X_sample.size)\n",
        "            X_sample = np.concatenate([X_sample, padding])\n",
        "        elif X_sample.size > required_length:\n",
        "            X_sample = X_sample[:required_length]\n",
        "\n",
        "        X.append(X_sample)\n",
        "        y.append(y_sample)\n",
        "    X = np.array(X)\n",
        "    y = np.array(y)\n",
        "\n",
        "    meta_tasks = []\n",
        "    bin_task_counts = []\n",
        "\n",
        "    # Alternate between `pt` and `m0` for meta-task generation\n",
        "    for feature_type in ['pt', 'm0']:\n",
        "        feature = getattr(dataset, feature_type)\n",
        "        bins = np.linspace(feature.min(), feature.max(), bin_count + 1)\n",
        "        for i in range(len(bins) - 1):\n",
        "            bin_indices = np.where((feature >= bins[i]) & (feature < bins[i + 1]))[0]\n",
        "            if len(bin_indices) < support_size + query_size:\n",
        "                continue\n",
        "\n",
        "            class_0_indices = bin_indices[y[bin_indices] == 0]\n",
        "            class_1_indices = bin_indices[y[bin_indices] == 1]\n",
        "\n",
        "            if len(class_0_indices) < support_size // 2 or len(class_1_indices) < support_size // 2:\n",
        "                continue\n",
        "\n",
        "            for _ in range(num_tasks_per_bin):\n",
        "                support_indices = np.concatenate([\n",
        "                    np.random.choice(class_0_indices, support_size // 2, replace=False),\n",
        "                    np.random.choice(class_1_indices, support_size // 2, replace=False)\n",
        "                ])\n",
        "                query_indices = np.concatenate([\n",
        "                    np.random.choice(class_0_indices, query_size // 2, replace=False),\n",
        "                    np.random.choice(class_1_indices, query_size // 2, replace=False)\n",
        "                ])\n",
        "                meta_tasks.append(\n",
        "                    {\n",
        "                        \"support_X\": torch.tensor(X[support_indices], dtype=torch.float32),\n",
        "                        \"support_y\": torch.tensor(y[support_indices], dtype=torch.long),\n",
        "                        \"query_X\": torch.tensor(X[query_indices], dtype=torch.float32),\n",
        "                        \"query_y\": torch.tensor(y[query_indices], dtype=torch.long),\n",
        "                    }\n",
        "                )\n",
        "            bin_task_counts.append(num_tasks_per_bin)\n",
        "\n",
        "    print(f\"Total meta-tasks generated: {len(meta_tasks)}\")\n",
        "    return meta_tasks\n",
        "\n",
        "# Generate meta-tasks\n",
        "meta_tasks = generate_meta_tasks(\n",
        "    meta_dataset,\n",
        "    config.META_TASK_TYPE,\n",
        "    config.META_BIN_COUNT,\n",
        "    config.SUPPORT_SIZE,\n",
        "    config.QUERY_SIZE,\n",
        "    config.META_TASK_STRATEGY,\n",
        ")"
      ],
      "metadata": {
        "colab": {
          "base_uri": "https://localhost:8080/"
        },
        "id": "bLviDhxgmaMn",
        "outputId": "a6478675-5632-43cb-be99-20a5f0c86887"
      },
      "execution_count": 20,
      "outputs": [
        {
          "output_type": "stream",
          "name": "stdout",
          "text": [
            "Total meta-tasks generated: 36\n"
          ]
        }
      ]
    },
    {
      "cell_type": "code",
      "source": [
        "class QCNNModel(nn.Module):\n",
        "    def __init__(self, num_qubits: int, depth: int, encoding_scheme: str):\n",
        "        super().__init__()\n",
        "        self.num_qubits = num_qubits\n",
        "        self.depth = depth\n",
        "        self.encoding_scheme = encoding_scheme\n",
        "        self.dev = qml.device(\"default.qubit\", wires=num_qubits)\n",
        "\n",
        "        @qml.qnode(self.dev, interface=\"torch\")\n",
        "        def circuit(inputs, weights):\n",
        "            # Flatten the input tensor to ensure it is 1D\n",
        "            inputs = inputs.flatten()\n",
        "\n",
        "            # Ensure input size matches the required length for amplitude encoding\n",
        "            required_length = 2 ** self.num_qubits\n",
        "            if inputs.size(0) < required_length:\n",
        "                # Pad the input tensor with zeros if it has fewer elements\n",
        "                padding = torch.zeros(required_length - inputs.size(0), device=inputs.device)\n",
        "                inputs = torch.cat([inputs, padding])\n",
        "            elif inputs.size(0) > required_length:\n",
        "                # Truncate the input tensor if it has more elements\n",
        "                inputs = inputs[:required_length]\n",
        "\n",
        "            # Input encoding\n",
        "            if self.encoding_scheme == 'angle':\n",
        "                for i in range(self.num_qubits):\n",
        "                    qml.RY(inputs[i], wires=i)\n",
        "            elif self.encoding_scheme == 'amplitude':\n",
        "                qml.AmplitudeEmbedding(inputs, wires=range(self.num_qubits), normalize=True)\n",
        "            else:\n",
        "                raise ValueError(\"Invalid encoding scheme.\")\n",
        "\n",
        "            # Quantum convolutional layers\n",
        "            for layer in range(self.depth):\n",
        "                for i in range(self.num_qubits - 1):  # Apply entangling gates locally\n",
        "                    qml.CNOT(wires=[i, i + 1])\n",
        "                    qml.RY(weights[layer, i, 0], wires=i)\n",
        "                    qml.RZ(weights[layer, i, 1], wires=i)\n",
        "                    qml.RY(weights[layer, i, 2], wires=i)\n",
        "\n",
        "            # Quantum pooling layer (reduce qubits)\n",
        "            for i in range(self.num_qubits // 2):\n",
        "                qml.CNOT(wires=[i, i + self.num_qubits // 2])\n",
        "                qml.PauliX(wires=i + self.num_qubits // 2)\n",
        "\n",
        "            # Final measurement\n",
        "            return [qml.expval(qml.PauliZ(i)) for i in range(self.num_qubits // 2)]\n",
        "\n",
        "        self.circuit = circuit\n",
        "        self.weights = nn.Parameter(torch.randn(depth, num_qubits - 1, 3))\n",
        "        self.fc = nn.Linear(num_qubits // 2, 2)  # Output layer for binary classification\n",
        "\n",
        "    def forward(self, x):\n",
        "        batch_size = x.size(0)\n",
        "        outputs = torch.zeros(batch_size, self.num_qubits // 2)\n",
        "        for i in range(batch_size):\n",
        "            outputs[i] = torch.tensor(self.circuit(x[i], self.weights), dtype=torch.float32)\n",
        "        logits = self.fc(outputs)\n",
        "        return logits\n",
        "# Instantiate the QCNN model\n",
        "qcnn_model = QCNNModel(config.NUM_QUBITS, config.Q_DEPTH, config.ENCODING_SCHEME)"
      ],
      "metadata": {
        "id": "j6f328W6mX2V"
      },
      "execution_count": 21,
      "outputs": []
    },
    {
      "cell_type": "code",
      "source": [
        "# Train the QCNN model\n",
        "def train_qcnn(model, meta_tasks, config):\n",
        "    optimizer = optim.Adam(model.parameters(), lr=config.OUTER_LR)\n",
        "    loss_fn = nn.CrossEntropyLoss()\n",
        "\n",
        "    for epoch in range(config.EPOCHS):\n",
        "        meta_loss = 0.0\n",
        "        all_preds, all_labels = [], []\n",
        "\n",
        "        for task in meta_tasks:\n",
        "            support_X, support_y = task[\"support_X\"], task[\"support_y\"]\n",
        "            query_X, query_y = task[\"query_X\"], task[\"query_y\"]\n",
        "\n",
        "            # Inner-loop adaptation\n",
        "            adapted_model = QCNNModel(config.NUM_QUBITS, config.Q_DEPTH, config.ENCODING_SCHEME)\n",
        "            adapted_model.load_state_dict(model.state_dict())\n",
        "            inner_optimizer = optim.SGD(adapted_model.parameters(), lr=config.INNER_LR)\n",
        "\n",
        "            for _ in range(config.INNER_STEPS):\n",
        "                inner_optimizer.zero_grad()\n",
        "                logits = adapted_model(support_X)\n",
        "                loss = loss_fn(logits, support_y)\n",
        "                loss.backward()\n",
        "                inner_optimizer.step()\n",
        "\n",
        "            # Outer-loop update\n",
        "            optimizer.zero_grad()\n",
        "            query_logits = adapted_model(query_X)\n",
        "            query_loss = loss_fn(query_logits, query_y)\n",
        "            query_loss.backward()\n",
        "            optimizer.step()\n",
        "\n",
        "            meta_loss += query_loss.item()\n",
        "\n",
        "            # Collect predictions for metrics\n",
        "            preds = torch.argmax(query_logits, dim=1)\n",
        "            all_preds.extend(preds.cpu().numpy())\n",
        "            all_labels.extend(query_y.cpu().numpy())\n",
        "\n",
        "        meta_loss /= len(meta_tasks)\n",
        "        accuracy = accuracy_score(all_labels, all_preds)\n",
        "        precision = precision_score(all_labels, all_preds, average=\"weighted\", zero_division=0)\n",
        "        recall = recall_score(all_labels, all_preds, average=\"weighted\", zero_division=0)\n",
        "        f1 = f1_score(all_labels, all_preds, average=\"weighted\", zero_division=0)\n",
        "\n",
        "        print(f\"Epoch {epoch + 1}/{config.EPOCHS}, Meta-loss: {meta_loss:.4f}, \"\n",
        "              f\"Accuracy: {accuracy:.4f}, Precision: {precision:.4f}, Recall: {recall:.4f}, F1-score: {f1:.4f}\")\n",
        "\n",
        "# Train the QCNN model\n",
        "train_qcnn(qcnn_model, meta_tasks, config)"
      ],
      "metadata": {
        "colab": {
          "base_uri": "https://localhost:8080/"
        },
        "id": "IMN-oxOPme_G",
        "outputId": "7c676fa5-de12-4002-d2a4-566871a54278"
      },
      "execution_count": 22,
      "outputs": [
        {
          "output_type": "stream",
          "name": "stdout",
          "text": [
            "Epoch 1/10, Meta-loss: nan, Accuracy: 0.5000, Precision: 0.2500, Recall: 0.5000, F1-score: 0.3333\n",
            "Epoch 2/10, Meta-loss: nan, Accuracy: 0.5000, Precision: 0.2500, Recall: 0.5000, F1-score: 0.3333\n",
            "Epoch 3/10, Meta-loss: nan, Accuracy: 0.5000, Precision: 0.2500, Recall: 0.5000, F1-score: 0.3333\n",
            "Epoch 4/10, Meta-loss: nan, Accuracy: 0.5000, Precision: 0.2500, Recall: 0.5000, F1-score: 0.3333\n",
            "Epoch 5/10, Meta-loss: nan, Accuracy: 0.5000, Precision: 0.2500, Recall: 0.5000, F1-score: 0.3333\n",
            "Epoch 6/10, Meta-loss: nan, Accuracy: 0.5000, Precision: 0.2500, Recall: 0.5000, F1-score: 0.3333\n",
            "Epoch 7/10, Meta-loss: nan, Accuracy: 0.5000, Precision: 0.2500, Recall: 0.5000, F1-score: 0.3333\n",
            "Epoch 8/10, Meta-loss: nan, Accuracy: 0.5000, Precision: 0.2500, Recall: 0.5000, F1-score: 0.3333\n",
            "Epoch 9/10, Meta-loss: nan, Accuracy: 0.5000, Precision: 0.2500, Recall: 0.5000, F1-score: 0.3333\n",
            "Epoch 10/10, Meta-loss: nan, Accuracy: 0.5000, Precision: 0.2500, Recall: 0.5000, F1-score: 0.3333\n"
          ]
        }
      ]
    },
    {
      "cell_type": "code",
      "source": [
        "# Evaluate the QCNN model\n",
        "def evaluate_qcnn(model, test_dataset, config):\n",
        "    test_loader = DataLoader(test_dataset, batch_size=config.BATCH_SIZE, shuffle=False)\n",
        "    all_preds, all_labels = [], []\n",
        "\n",
        "    with torch.no_grad():\n",
        "        for X_batch, y_batch in test_loader:\n",
        "            X_batch = X_batch.permute(0, 3, 1, 2)  # Fix shape\n",
        "            logits = model(X_batch)\n",
        "            preds = torch.argmax(logits, dim=1)\n",
        "            all_preds.extend(preds.cpu().numpy())\n",
        "            all_labels.extend(y_batch.cpu().numpy())\n",
        "\n",
        "    # Compute metrics\n",
        "    accuracy = accuracy_score(all_labels, all_preds)\n",
        "    precision = precision_score(all_labels, all_preds, average=\"weighted\", zero_division=0)\n",
        "    recall = recall_score(all_labels, all_preds, average=\"weighted\", zero_division=0)\n",
        "    f1 = f1_score(all_labels, all_preds, average=\"weighted\", zero_division=0)\n",
        "\n",
        "    print(f\"Test Accuracy: {accuracy:.4f}, Precision: {precision:.4f}, Recall: {recall:.4f}, F1-score: {f1:.4f}\")\n",
        "\n",
        "    # Classification report\n",
        "    report = classification_report(all_labels, all_preds, zero_division=0)\n",
        "    print(\"Classification Report:\\n\", report)\n",
        "\n",
        "    # Confusion matrix\n",
        "    cm = confusion_matrix(all_labels, all_preds)\n",
        "    disp = ConfusionMatrixDisplay(confusion_matrix=cm, display_labels=[\"Quark\", \"Gluon\"])\n",
        "    disp.plot(cmap=plt.cm.Blues)\n",
        "    plt.title(\"Confusion Matrix\")\n",
        "    plt.show()\n",
        "\n",
        "# Evaluate the QCNN model\n",
        "evaluate_qcnn(qcnn_model, test2_dataset, config)"
      ],
      "metadata": {
        "colab": {
          "base_uri": "https://localhost:8080/",
          "height": 663
        },
        "id": "tntyMShwmhRM",
        "outputId": "27c8d4d3-f2bb-4b98-f94d-5e91864e5c15"
      },
      "execution_count": 23,
      "outputs": [
        {
          "output_type": "stream",
          "name": "stdout",
          "text": [
            "Test Accuracy: 0.4992, Precision: 0.4935, Recall: 0.4992, F1-score: 0.3584\n",
            "Classification Report:\n",
            "               precision    recall  f1-score   support\n",
            "\n",
            "         0.0       0.50      0.97      0.66      5000\n",
            "         1.0       0.49      0.03      0.06      5000\n",
            "\n",
            "    accuracy                           0.50     10000\n",
            "   macro avg       0.49      0.50      0.36     10000\n",
            "weighted avg       0.49      0.50      0.36     10000\n",
            "\n"
          ]
        },
        {
          "output_type": "display_data",
          "data": {
            "text/plain": [
              "<Figure size 640x480 with 2 Axes>"
            ],
            "image/png": "[encoded data removed]"
          },
          "metadata": {}
        }
      ]
    }
  ]
}