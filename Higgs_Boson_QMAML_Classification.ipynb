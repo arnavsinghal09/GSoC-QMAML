{
  "nbformat": 4,
  "nbformat_minor": 0,
  "metadata": {
    "colab": {
      "provenance": [],
      "gpuType": "T4",
      "authorship_tag": "ABX9TyNUgAiMs7L667LINm2B0FUs",
      "include_colab_link": true
    },
    "kernelspec": {
      "name": "python3",
      "display_name": "Python 3"
    },
    "language_info": {
      "name": "python"
    },
    "accelerator": "GPU"
  },
  "cells": [
    {
      "cell_type": "markdown",
      "metadata": {
        "id": "view-in-github",
        "colab_type": "text"
      },
      "source": [
        "<a href=\"https://colab.research.google.com/github/arnavsinghal09/GSoC-QMAML/blob/main/Higgs_Boson_QMAML_Classification.ipynb\" target=\"_parent\"><img src=\"https://colab.research.google.com/assets/colab-badge.svg\" alt=\"Open In Colab\"/></a>"
      ]
    },
    {
      "cell_type": "code",
      "execution_count": 1,
      "metadata": {
        "colab": {
          "base_uri": "https://localhost:8080/"
        },
        "id": "eRohYfm9I0cg",
        "outputId": "abb67919-57fb-49ed-acfa-6155deef2dfb"
      },
      "outputs": [
        {
          "output_type": "stream",
          "name": "stdout",
          "text": [
            "--2025-06-11 13:19:47--  https://archive.ics.uci.edu/ml/machine-learning-databases/00280/HIGGS.csv.gz\n",
            "Resolving archive.ics.uci.edu (archive.ics.uci.edu)... 128.195.10.252\n",
            "Connecting to archive.ics.uci.edu (archive.ics.uci.edu)|128.195.10.252|:443... connected.\n",
            "HTTP request sent, awaiting response... 200 OK\n",
            "Length: unspecified\n",
            "Saving to: ‘HIGGS.csv.gz’\n",
            "\n",
            "HIGGS.csv.gz            [            <=>     ]   2.62G  79.4MB/s    in 46s     \n",
            "\n",
            "2025-06-11 13:20:33 (57.9 MB/s) - ‘HIGGS.csv.gz’ saved [2816407858]\n",
            "\n",
            "\u001b[2K     \u001b[90m━━━━━━━━━━━━━━━━━━━━━━━━━━━━━━━━━━━━━━━━\u001b[0m \u001b[32m56.1/56.1 kB\u001b[0m \u001b[31m4.2 MB/s\u001b[0m eta \u001b[36m0:00:00\u001b[0m\n",
            "\u001b[2K   \u001b[90m━━━━━━━━━━━━━━━━━━━━━━━━━━━━━━━━━━━━━━━━\u001b[0m \u001b[32m2.3/2.3 MB\u001b[0m \u001b[31m41.1 MB/s\u001b[0m eta \u001b[36m0:00:00\u001b[0m\n",
            "\u001b[2K   \u001b[90m━━━━━━━━━━━━━━━━━━━━━━━━━━━━━━━━━━━━━━━━\u001b[0m \u001b[32m930.8/930.8 kB\u001b[0m \u001b[31m50.6 MB/s\u001b[0m eta \u001b[36m0:00:00\u001b[0m\n",
            "\u001b[2K   \u001b[90m━━━━━━━━━━━━━━━━━━━━━━━━━━━━━━━━━━━━━━━━\u001b[0m \u001b[32m2.5/2.5 MB\u001b[0m \u001b[31m8.8 MB/s\u001b[0m eta \u001b[36m0:00:00\u001b[0m\n",
            "\u001b[2K   \u001b[90m━━━━━━━━━━━━━━━━━━━━━━━━━━━━━━━━━━━━━━━━\u001b[0m \u001b[32m2.1/2.1 MB\u001b[0m \u001b[31m88.3 MB/s\u001b[0m eta \u001b[36m0:00:00\u001b[0m\n",
            "\u001b[2K   \u001b[90m━━━━━━━━━━━━━━━━━━━━━━━━━━━━━━━━━━━━━━━━\u001b[0m \u001b[32m167.9/167.9 kB\u001b[0m \u001b[31m15.6 MB/s\u001b[0m eta \u001b[36m0:00:00\u001b[0m\n",
            "\u001b[2K   \u001b[90m━━━━━━━━━━━━━━━━━━━━━━━━━━━━━━━━━━━━━━━━\u001b[0m \u001b[32m8.6/8.6 MB\u001b[0m \u001b[31m134.5 MB/s\u001b[0m eta \u001b[36m0:00:00\u001b[0m\n",
            "\u001b[?25h"
          ]
        }
      ],
      "source": [
        "# 1. Download and unzip the Higgs dataset, install dependencies\n",
        "!wget -O HIGGS.csv.gz https://archive.ics.uci.edu/ml/machine-learning-databases/00280/HIGGS.csv.gz\n",
        "!gunzip HIGGS.csv.gz\n",
        "!pip install pennylane --quiet"
      ]
    },
    {
      "cell_type": "code",
      "source": [
        "CSV_PATH = 'HIGGS.csv'\n",
        "#N_TRAIN = 10000         # Use a small subset for quantum simulation speed!\n",
        "#N_TEST = 2000\n",
        "N_FEATURES = 8          # We'll use 8 features for speed (can be more)\n",
        "N_CLASSES = 2\n",
        "\n",
        "# PQC/QNN\n",
        "N_QUBITS = 4\n",
        "#PQC_LAYERS = 2\n",
        "\n",
        "# Meta-initializer MLP\n",
        "META_INIT_HIDDEN = 64\n",
        "\n",
        "# Training\n",
        "#BATCH_SIZE = 32\n",
        "#N_EPOCHS = 5\n",
        "LR = 0.01\n",
        "\n",
        "N_TRAIN = 500\n",
        "N_TEST = 100\n",
        "N_EPOCHS = 2\n",
        "PQC_LAYERS = 1\n",
        "BATCH_SIZE = 16"
      ],
      "metadata": {
        "id": "JP3yHIbaI5VP"
      },
      "execution_count": 34,
      "outputs": []
    },
    {
      "cell_type": "code",
      "source": [
        "import torch\n",
        "import torch.nn as nn\n",
        "import torch.optim as optim\n",
        "from torch.utils.data import Dataset\n",
        "import pandas as pd\n",
        "import numpy as np\n",
        "import pennylane as qml\n",
        "from sklearn.metrics import accuracy_score, roc_auc_score, f1_score\n",
        "import matplotlib.pyplot as plt"
      ],
      "metadata": {
        "id": "uO7wfNuFI3yj"
      },
      "execution_count": 35,
      "outputs": []
    },
    {
      "cell_type": "code",
      "source": [
        "# 3. Dataset (use only first N_FEATURES for quantum speed)\n",
        "class HiggsDataset(Dataset):\n",
        "    def __init__(self, csv_path, n_samples=None, offset=0):\n",
        "        df = pd.read_csv(csv_path, header=None, nrows=n_samples, skiprows=range(1, offset+1))\n",
        "        X = df.iloc[:, 1:].values.astype(np.float32)[:, :N_FEATURES]\n",
        "        self.X = X\n",
        "        self.y = df.iloc[:, 0].values.astype(np.int64)\n",
        "    def __len__(self):\n",
        "        return len(self.y)\n",
        "    def __getitem__(self, idx):\n",
        "        return torch.from_numpy(self.X[idx]), self.y[idx]"
      ],
      "metadata": {
        "id": "XFwqOxJpI8BY"
      },
      "execution_count": 36,
      "outputs": []
    },
    {
      "cell_type": "code",
      "source": [
        "# 4. Task embedding and meta-initializer MLP\n",
        "def task_embedding(task_id, n_qubits=N_QUBITS):\n",
        "    # Simple: one-hot or random vector for each task\n",
        "    emb = torch.zeros(n_qubits)\n",
        "    emb[task_id % n_qubits] = 1.0\n",
        "    return emb\n",
        "\n",
        "class MetaInitializerMLP(nn.Module):\n",
        "    def __init__(self, emb_dim, pqc_layers, n_qubits):\n",
        "        super().__init__()\n",
        "        self.mlp = nn.Sequential(\n",
        "            nn.Linear(emb_dim, META_INIT_HIDDEN),\n",
        "            nn.ReLU(),\n",
        "            nn.Linear(META_INIT_HIDDEN, pqc_layers * n_qubits * 2)\n",
        "        )\n",
        "        self.pqc_layers = pqc_layers\n",
        "        self.n_qubits = n_qubits\n",
        "    def forward(self, emb):\n",
        "        out = self.mlp(emb)\n",
        "        return out.view(self.pqc_layers, self.n_qubits, 2)"
      ],
      "metadata": {
        "id": "Ldl7E3I4I-HP"
      },
      "execution_count": 37,
      "outputs": []
    },
    {
      "cell_type": "code",
      "source": [
        "# 5. PQC/QNN classifier\n",
        "dev = qml.device(\"default.qubit\", wires=N_QUBITS)\n",
        "\n",
        "def angle_encode(x):\n",
        "    for i in range(N_QUBITS):\n",
        "        qml.RY(x[i], wires=i)\n",
        "\n",
        "@qml.qnode(dev, interface=\"torch\", diff_method=\"parameter-shift\")\n",
        "def pqc_classifier(weights, x):\n",
        "    angle_encode(x)\n",
        "    for l in range(weights.shape[0]):\n",
        "        for i in range(N_QUBITS):\n",
        "            qml.RY(weights[l, i, 0], wires=i)\n",
        "            qml.RZ(weights[l, i, 1], wires=i)\n",
        "        for i in range(N_QUBITS - 1):\n",
        "            qml.CNOT(wires=[i, i + 1])\n",
        "    return qml.expval(qml.PauliZ(0))  # Use qubit 0 for binary classification"
      ],
      "metadata": {
        "id": "sd1SBautI_L_"
      },
      "execution_count": 38,
      "outputs": []
    },
    {
      "cell_type": "code",
      "source": [
        "def train_meta_qnn(train_dataset, n_epochs, batch_size, device):\n",
        "    meta_init = MetaInitializerMLP(N_QUBITS, PQC_LAYERS, N_QUBITS).to(device)\n",
        "    optimizer = optim.Adam(meta_init.parameters(), lr=LR)\n",
        "    losses, accs, f1s, rocs = [], [], [], []\n",
        "    for epoch in range(n_epochs):\n",
        "        meta_init.train()\n",
        "        total_loss = 0\n",
        "        all_preds, all_trues = [], []\n",
        "        for i in range(0, len(train_dataset), batch_size):\n",
        "            X_batch = torch.stack([train_dataset[j][0] for j in range(i, min(i+batch_size, len(train_dataset)))])\n",
        "            y_batch = torch.tensor([train_dataset[j][1] for j in range(i, min(i+batch_size, len(train_dataset)))])\n",
        "            X_batch, y_batch = X_batch.to(device), y_batch.to(device)\n",
        "            emb = task_embedding(0).to(device)\n",
        "            pqc_params = meta_init(emb)\n",
        "            preds = torch.stack([pqc_classifier(pqc_params, x) for x in X_batch])\n",
        "            preds = preds.float()\n",
        "            preds = (preds + 1) / 2\n",
        "            y_batch = y_batch.float()\n",
        "            loss = nn.BCELoss()(preds, y_batch)\n",
        "            optimizer.zero_grad()\n",
        "            loss.backward()\n",
        "            optimizer.step()\n",
        "            total_loss += loss.item() * X_batch.size(0)\n",
        "            all_preds.extend(preds.detach().cpu().numpy())\n",
        "            all_trues.extend(y_batch.cpu().numpy())\n",
        "        avg_loss = total_loss / len(train_dataset)\n",
        "        pred_labels = (np.array(all_preds) > 0.5).astype(int)\n",
        "        acc = accuracy_score(all_trues, pred_labels)\n",
        "        f1 = f1_score(all_trues, pred_labels)\n",
        "        try:\n",
        "            roc = roc_auc_score(all_trues, all_preds)\n",
        "        except:\n",
        "            roc = float('nan')\n",
        "        losses.append(avg_loss)\n",
        "        accs.append(acc)\n",
        "        f1s.append(f1)\n",
        "        rocs.append(roc)\n",
        "        print(f\"Epoch {epoch+1}: Loss {avg_loss:.4f}, Acc {acc:.4f}, F1 {f1:.4f}, ROC-AUC {roc:.4f}\")\n",
        "    return meta_init, losses, accs, f1s, rocs"
      ],
      "metadata": {
        "id": "VduisbinJAVX"
      },
      "execution_count": 39,
      "outputs": []
    },
    {
      "cell_type": "code",
      "source": [
        "def eval_meta_qnn(meta_init, test_dataset, device):\n",
        "    meta_init.eval()\n",
        "    emb = task_embedding(0).to(device)\n",
        "    pqc_params = meta_init(emb)\n",
        "    preds, trues = [], []\n",
        "    for i in range(len(test_dataset)):\n",
        "        x, y = test_dataset[i]\n",
        "        x = x.to(device)\n",
        "        pred = pqc_classifier(pqc_params, x)\n",
        "        pred = (pred.item() + 1) / 2\n",
        "        preds.append(pred)\n",
        "        trues.append(y)\n",
        "    preds = np.array(preds)\n",
        "    trues = np.array(trues)\n",
        "    pred_labels = (preds > 0.5).astype(int)\n",
        "    acc = accuracy_score(trues, pred_labels)\n",
        "    f1 = f1_score(trues, pred_labels)\n",
        "    try:\n",
        "        roc = roc_auc_score(trues, preds)\n",
        "    except:\n",
        "        roc = float('nan')\n",
        "    print(f\"Test Accuracy: {acc:.4f}, F1: {f1:.4f}, ROC-AUC: {roc:.4f}\")\n",
        "    return preds, trues"
      ],
      "metadata": {
        "id": "WDCbYW4iJBbS"
      },
      "execution_count": 40,
      "outputs": []
    },
    {
      "cell_type": "code",
      "source": [
        "# 8. Run the pipeline\n",
        "device = torch.device('cuda' if torch.cuda.is_available() else 'cpu')\n",
        "print(device)\n",
        "print(\"Loading data...\")\n",
        "train_dataset = HiggsDataset(CSV_PATH, n_samples=N_TRAIN)\n",
        "test_dataset = HiggsDataset(CSV_PATH, n_samples=N_TEST, offset=N_TRAIN)\n",
        "print(\"Training meta-initializer + PQC classifier...\")\n",
        "meta_init, losses, accs, f1s, rocs = train_meta_qnn(train_dataset, N_EPOCHS, BATCH_SIZE, device)\n",
        "plt.plot(losses)\n",
        "plt.title(\"Training Loss\")\n",
        "plt.show()\n",
        "print(\"Evaluating...\")\n",
        "eval_meta_qnn(meta_init, test_dataset, device)"
      ],
      "metadata": {
        "colab": {
          "base_uri": "https://localhost:8080/",
          "height": 1000
        },
        "id": "SrAqFmkdJCXz",
        "outputId": "c1063960-d7b4-487f-e89a-7fc5ed2adb37"
      },
      "execution_count": 42,
      "outputs": [
        {
          "output_type": "stream",
          "name": "stdout",
          "text": [
            "cuda\n",
            "Loading data...\n",
            "Training meta-initializer + PQC classifier...\n",
            "Epoch 1: Loss 0.7478, Acc 0.5680, F1 0.6656, ROC-AUC 0.5486\n",
            "Epoch 2: Loss 0.7607, Acc 0.5740, F1 0.6738, ROC-AUC 0.5407\n"
          ]
        },
        {
          "output_type": "display_data",
          "data": {
            "text/plain": [
              "<Figure size 640x480 with 1 Axes>"
            ],
            "image/png": "[encoded data removed]"
          },
          "metadata": {}
        },
        {
          "output_type": "stream",
          "name": "stdout",
          "text": [
            "Evaluating...\n",
            "Test Accuracy: 0.5800, F1: 0.6667, ROC-AUC: 0.5434\n"
          ]
        },
        {
          "output_type": "execute_result",
          "data": {
            "text/plain": [
              "(array([0.71048732, 0.72824649, 0.88088958, 0.54799387, 0.6451391 ,\n",
              "        0.91290903, 0.90399207, 0.56381511, 0.52216484, 0.53458907,\n",
              "        0.69206141, 0.0995744 , 0.90645782, 0.91860139, 0.58462635,\n",
              "        0.62894799, 0.89003804, 0.3544767 , 0.18938693, 0.4371481 ,\n",
              "        0.25559621, 0.72302047, 0.49536134, 0.6564804 , 0.89836739,\n",
              "        0.41254435, 0.62212795, 0.79500505, 0.85701249, 0.79433974,\n",
              "        0.8398238 , 0.92152948, 0.55572971, 0.76297916, 0.78170013,\n",
              "        0.79978627, 0.10982524, 0.55636624, 0.62558537, 0.83113972,\n",
              "        0.64452604, 0.77562221, 0.83807478, 0.64863778, 0.70440965,\n",
              "        0.69493014, 0.01472639, 0.8923177 , 0.72914158, 0.50963534,\n",
              "        0.65813067, 0.60564547, 0.66583524, 0.87754996, 0.70624517,\n",
              "        0.44587209, 0.49865545, 0.65256426, 0.89356255, 0.43406283,\n",
              "        0.88553273, 0.51237982, 0.40247287, 0.44960316, 0.66859478,\n",
              "        0.85152407, 0.62700196, 0.80452511, 0.34958194, 0.81094362,\n",
              "        0.02692775, 0.08919807, 0.85243393, 0.72195514, 0.29689493,\n",
              "        0.75349857, 0.78883917, 0.62682497, 0.71982081, 0.81223177,\n",
              "        0.86921335, 0.31757782, 0.89192028, 0.7559395 , 0.41660146,\n",
              "        0.68545227, 0.16480827, 0.83908477, 0.27123357, 0.84923934,\n",
              "        0.08379711, 0.76001545, 0.24473778, 0.84995894, 0.79618586,\n",
              "        0.88894788, 0.74077215, 0.77348092, 0.84082935, 0.47853106]),\n",
              " array([1, 1, 0, 1, 0, 0, 1, 0, 1, 0, 1, 0, 1, 0, 0, 1, 1, 0, 0, 0, 0, 0,\n",
              "        1, 1, 1, 0, 1, 1, 0, 0, 1, 1, 0, 0, 1, 1, 0, 1, 1, 0, 1, 0, 1, 1,\n",
              "        1, 0, 1, 0, 1, 0, 1, 1, 1, 0, 0, 0, 1, 1, 0, 1, 0, 1, 0, 0, 0, 1,\n",
              "        1, 1, 0, 0, 1, 1, 1, 0, 0, 0, 0, 1, 0, 0, 1, 1, 1, 0, 0, 0, 0, 0,\n",
              "        1, 1, 1, 0, 0, 1, 1, 0, 1, 1, 1, 0]))"
            ]
          },
          "metadata": {},
          "execution_count": 42
        }
      ]
    },
    {
      "cell_type": "code",
      "source": [
        "# After training:\n",
        "meta_init, losses, accs, f1s, rocs = train_meta_qnn(train_dataset, N_EPOCHS, BATCH_SIZE, device)\n",
        "plt.figure(figsize=(12,4))\n",
        "plt.subplot(1,4,1); plt.plot(losses); plt.title(\"Loss\")\n",
        "plt.subplot(1,4,2); plt.plot(accs); plt.title(\"Accuracy\")\n",
        "plt.subplot(1,4,3); plt.plot(f1s); plt.title(\"F1\")\n",
        "plt.subplot(1,4,4); plt.plot(rocs); plt.title(\"ROC-AUC\")\n",
        "plt.tight_layout(); plt.show()"
      ],
      "metadata": {
        "id": "lCj2xNR8RkM4"
      },
      "execution_count": null,
      "outputs": []
    }
  ]
}