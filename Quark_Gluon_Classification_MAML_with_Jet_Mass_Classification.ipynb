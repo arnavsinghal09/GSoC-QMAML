{
  "nbformat": 4,
  "nbformat_minor": 0,
  "metadata": {
    "colab": {
      "provenance": [],
      "gpuType": "T4",
      "machine_shape": "hm",
      "authorship_tag": "ABX9TyMqQF5eIM7BmhqEptVpmLRF",
      "include_colab_link": true
    },
    "kernelspec": {
      "name": "python3",
      "display_name": "Python 3"
    },
    "language_info": {
      "name": "python"
    },
    "accelerator": "GPU"
  },
  "cells": [
    {
      "cell_type": "markdown",
      "metadata": {
        "id": "view-in-github",
        "colab_type": "text"
      },
      "source": [
        "<a href=\"https://colab.research.google.com/github/arnavsinghal09/GSoC-QMAML/blob/main/Quark_Gluon_Classification_MAML_with_Jet_Mass_Classification.ipynb\" target=\"_parent\"><img src=\"https://colab.research.google.com/assets/colab-badge.svg\" alt=\"Open In Colab\"/></a>"
      ]
    },
    {
      "cell_type": "code",
      "execution_count": null,
      "metadata": {
        "colab": {
          "base_uri": "https://localhost:8080/"
        },
        "id": "GSSNKRvxVGfC",
        "outputId": "2da420c8-6d57-45f0-c6ff-3eafa6e90cb1"
      },
      "outputs": [
        {
          "output_type": "stream",
          "name": "stdout",
          "text": [
            "Drive already mounted at /content/drive; to attempt to forcibly remount, call drive.mount(\"/content/drive\", force_remount=True).\n"
          ]
        }
      ],
      "source": [
        "from google.colab import drive\n",
        "drive.mount('/content/drive')"
      ]
    },
    {
      "cell_type": "code",
      "source": [
        "# 1. Imports\n",
        "\n",
        "import h5py\n",
        "import numpy as np\n",
        "import torch\n",
        "import torch.nn as nn\n",
        "import torch.optim as optim\n",
        "from torch.utils.data import Dataset, DataLoader, Subset\n",
        "from sklearn.metrics import accuracy_score, f1_score, precision_score, recall_score\n",
        "import random\n",
        "import matplotlib.pyplot as plt"
      ],
      "metadata": {
        "id": "aXBBLNaDY9rw"
      },
      "execution_count": null,
      "outputs": []
    },
    {
      "cell_type": "code",
      "source": [
        "# 2. Hyperparameters\n",
        "\n",
        "DATA_DIR = \"/content/drive/MyDrive/quark-gluon-dataset\"\n",
        "FILES = [\n",
        "    \"quark-gluon_train-set_n793900.hdf5\",\n",
        "    \"quark-gluon_test-set_n139306.hdf5\",\n",
        "    \"quark-gluon_test-set_n10000.hdf5\"\n",
        "]\n",
        "FILE_PATHS = [f\"{DATA_DIR}/{fname}\" for fname in FILES]\n",
        "FILE_LABELS = [\"Train\", \"Test1\", \"Test2\"]\n",
        "\n",
        "BATCH_SIZE = 64\n",
        "LEARNING_RATE = 1e-4\n",
        "EPOCHS = 25\n",
        "DEVICE = torch.device(\"cuda\" if torch.cuda.is_available() else \"cpu\")\n",
        "IMG_SHAPE = (3, 125, 125)\n",
        "N_WAY = 2\n",
        "K_SHOT = 32\n",
        "K_QUERY = 64\n",
        "META_BATCH_SIZE = 8\n",
        "INNER_STEPS = 10\n",
        "INNER_LR = 0.02\n",
        "NUM_WORKERS = 2\n",
        "ADAPTATION_STEPS = 10"
      ],
      "metadata": {
        "id": "2syvlwAYZRoz"
      },
      "execution_count": null,
      "outputs": []
    },
    {
      "cell_type": "code",
      "source": [
        "# 3. Dataset and Task Sampler\n",
        "\n",
        "class JetImageDataset(Dataset):\n",
        "    def __init__(self, X, y, mass=None, mass_bins=None):\n",
        "        self.X = X\n",
        "        self.y = y\n",
        "        self.mass = mass\n",
        "        self.mass_bins = mass_bins\n",
        "        if self.mass is not None and self.mass_bins is not None:\n",
        "            self.bin_indices = []\n",
        "            for i in range(len(mass_bins) - 1):\n",
        "                idx = np.where((mass >= mass_bins[i]) & (mass < mass_bins[i+1]))[0]\n",
        "                self.bin_indices.append(idx)\n",
        "        else:\n",
        "            self.bin_indices = [np.arange(len(y))]\n",
        "    def __len__(self):\n",
        "        return len(self.y)\n",
        "    def __getitem__(self, idx):\n",
        "        x = self.X[idx]\n",
        "        if x.shape != IMG_SHAPE:\n",
        "            x = np.transpose(x, (2, 0, 1))\n",
        "        label = int(self.y[idx])\n",
        "        return torch.tensor(x, dtype=torch.float32), torch.tensor(label, dtype=torch.long)"
      ],
      "metadata": {
        "id": "d-J4ymZFmeKd"
      },
      "execution_count": null,
      "outputs": []
    },
    {
      "cell_type": "code",
      "source": [
        "# 4. Model (Smaller CNN for MAML)\n",
        "\n",
        "class JetCNN(nn.Module):\n",
        "    def __init__(self, n_classes=2):\n",
        "        super().__init__()\n",
        "        self.net = nn.Sequential(\n",
        "            nn.Conv2d(3, 32, 5, stride=2, padding=2), nn.ReLU(),\n",
        "            nn.Conv2d(32, 64, 3, stride=2, padding=1), nn.ReLU(),\n",
        "            nn.Conv2d(64, 128, 3, stride=2, padding=1), nn.ReLU(),\n",
        "            nn.Conv2d(128, 256, 3, stride=2, padding=1), nn.ReLU(),\n",
        "            nn.Flatten(),\n",
        "            nn.Linear(256 * 8 * 8, 256), nn.ReLU(),\n",
        "            nn.Linear(256, n_classes)\n",
        "        )\n",
        "    def forward(self, x):\n",
        "        return self.net(x)"
      ],
      "metadata": {
        "id": "WueLeVuHvvAX"
      },
      "execution_count": null,
      "outputs": []
    },
    {
      "cell_type": "code",
      "source": [
        "# 5. Data Preparation and Meta-Task Definition\n",
        "\n",
        "with h5py.File(FILE_PATHS[0], \"r\") as f:\n",
        "    X = np.array(f[\"X_jets\"][:100000])  # Use a manageable subset for Colab\n",
        "    y = np.array(f[\"y\"][:100000])\n",
        "    pt = np.array(f[\"pt\"][:100000])\n",
        "    m0 = np.array(f[\"m0\"][:50000])\n",
        "\n",
        "mass_bins = np.percentile(m0, np.linspace(0, 100, 6))\n",
        "print(\"Jet mass bins:\", mass_bins)\n",
        "\n",
        "jet_dataset = JetImageDataset(X, y, mass=m0, mass_bins=mass_bins)\n",
        "\n",
        "indices = np.arange(len(y))\n",
        "np.random.shuffle(indices)\n",
        "split = int(0.8 * len(indices))\n",
        "train_idx, val_idx = indices[:split], indices[split:]\n",
        "train_loader = DataLoader(\n",
        "    Subset(jet_dataset, train_idx),\n",
        "    batch_size=BATCH_SIZE,\n",
        "    shuffle=True,\n",
        "    pin_memory=True,\n",
        "    num_workers=NUM_WORKERS\n",
        ")\n",
        "val_loader = DataLoader(\n",
        "    Subset(jet_dataset, val_idx),\n",
        "    batch_size=BATCH_SIZE,\n",
        "    pin_memory=True,\n",
        "    num_workers=NUM_WORKERS\n",
        ")"
      ],
      "metadata": {
        "colab": {
          "base_uri": "https://localhost:8080/"
        },
        "id": "g_sSr12cmiJK",
        "outputId": "3f0e19e0-758b-488e-ef7f-3cbe3c8e0eca"
      },
      "execution_count": null,
      "outputs": [
        {
          "output_type": "stream",
          "name": "stdout",
          "text": [
            "Jet mass bins: [ 2.73585939 15.95369186 18.85825195 21.76700401 25.78765755 78.60527802]\n"
          ]
        }
      ]
    },
    {
      "cell_type": "code",
      "source": [
        "# 6. Training Loop for Classical Baseline\n",
        "\n",
        "def compute_metrics(y_true, y_pred):\n",
        "    y_true = y_true.cpu().numpy()\n",
        "    y_pred = y_pred.cpu().numpy()\n",
        "    acc = accuracy_score(y_true, y_pred)\n",
        "    f1 = f1_score(y_true, y_pred)\n",
        "    prec = precision_score(y_true, y_pred)\n",
        "    rec = recall_score(y_true, y_pred)\n",
        "    return acc, f1, prec, rec\n",
        "\n",
        "def train_baseline(model, train_loader, val_loader, epochs=EPOCHS):\n",
        "    model = model.to(DEVICE)\n",
        "    optimizer = optim.Adam(model.parameters(), lr=LEARNING_RATE)\n",
        "    loss_fn = nn.CrossEntropyLoss()\n",
        "    for epoch in range(epochs):\n",
        "        model.train()\n",
        "        train_loss = 0\n",
        "        y_true_train, y_pred_train = [], []\n",
        "        for X, y in train_loader:\n",
        "            X, y = X.to(DEVICE), y.to(DEVICE)\n",
        "            optimizer.zero_grad()\n",
        "            logits = model(X)\n",
        "            loss = loss_fn(logits, y)\n",
        "            loss.backward()\n",
        "            optimizer.step()\n",
        "            train_loss += loss.item() * X.size(0)\n",
        "            preds = logits.argmax(dim=1)\n",
        "            y_true_train.append(y)\n",
        "            y_pred_train.append(preds)\n",
        "        y_true_train = torch.cat(y_true_train)\n",
        "        y_pred_train = torch.cat(y_pred_train)\n",
        "        train_loss /= len(train_loader.dataset)\n",
        "        train_acc, train_f1, train_prec, train_rec = compute_metrics(y_true_train, y_pred_train)\n",
        "\n",
        "        # Validation\n",
        "        model.eval()\n",
        "        val_loss = 0\n",
        "        y_true_val, y_pred_val = [], []\n",
        "        with torch.no_grad():\n",
        "            for X, y in val_loader:\n",
        "                X, y = X.to(DEVICE), y.to(DEVICE)\n",
        "                logits = model(X)\n",
        "                loss = loss_fn(logits, y)\n",
        "                val_loss += loss.item() * X.size(0)\n",
        "                preds = logits.argmax(dim=1)\n",
        "                y_true_val.append(y)\n",
        "                y_pred_val.append(preds)\n",
        "        y_true_val = torch.cat(y_true_val)\n",
        "        y_pred_val = torch.cat(y_pred_val)\n",
        "        val_loss /= len(val_loader.dataset)\n",
        "        val_acc, val_f1, val_prec, val_rec = compute_metrics(y_true_val, y_pred_val)\n",
        "\n",
        "        print(f\"Epoch {epoch+1:2d} | \"\n",
        "              f\"Train Loss: {train_loss:.4f} | Acc: {train_acc:.4f} | F1: {train_f1:.4f} | \"\n",
        "              f\"Prec: {train_prec:.4f} | Rec: {train_rec:.4f} || \"\n",
        "              f\"Val Loss: {val_loss:.4f} | Acc: {val_acc:.4f} | F1: {val_f1:.4f} | \"\n",
        "              f\"Prec: {val_prec:.4f} | Rec: {val_rec:.4f}\")\n",
        "    return model"
      ],
      "metadata": {
        "id": "mOkm3tXwndH0"
      },
      "execution_count": null,
      "outputs": []
    },
    {
      "cell_type": "code",
      "source": [
        "# 7. MAML Meta-Learning Loop\n",
        "\n",
        "def forward_with_weights(x, weights):\n",
        "    # Conv1\n",
        "    x = nn.functional.conv2d(x, weights[0], weights[1], stride=2, padding=2)\n",
        "    x = nn.functional.relu(x)\n",
        "    # Conv2\n",
        "    x = nn.functional.conv2d(x, weights[2], weights[3], stride=2, padding=1)\n",
        "    x = nn.functional.relu(x)\n",
        "    # Conv3\n",
        "    x = nn.functional.conv2d(x, weights[4], weights[5], stride=2, padding=1)\n",
        "    x = nn.functional.relu(x)\n",
        "    # Conv4\n",
        "    x = nn.functional.conv2d(x, weights[6], weights[7], stride=2, padding=1)\n",
        "    x = nn.functional.relu(x)\n",
        "    # Flatten\n",
        "    x = x.view(x.size(0), -1)\n",
        "    # FC1\n",
        "    x = nn.functional.linear(x, weights[8], weights[9])\n",
        "    x = nn.functional.relu(x)\n",
        "    # FC2\n",
        "    x = nn.functional.linear(x, weights[10], weights[11])\n",
        "    return x\n",
        "\n",
        "def maml_train(model, dataset, mass_bins, meta_batch_size=META_BATCH_SIZE, epochs=EPOCHS):\n",
        "    model = model.to(DEVICE)\n",
        "    meta_optimizer = optim.Adam(model.parameters(), lr=LEARNING_RATE)\n",
        "    loss_fn = nn.CrossEntropyLoss()\n",
        "    for epoch in range(epochs):\n",
        "        meta_loss = 0\n",
        "        all_y_true, all_y_pred = [], []\n",
        "        for _ in range(meta_batch_size):\n",
        "            bin_idx = random.randint(0, len(mass_bins)-2)\n",
        "            (X_s, y_s), (X_q, y_q) = sample_task(dataset, bin_idx, K_SHOT, K_QUERY)\n",
        "            X_s, y_s, X_q, y_q = X_s.to(DEVICE), y_s.to(DEVICE), X_q.to(DEVICE), y_q.to(DEVICE)\n",
        "            fast_weights = [p.clone().detach().requires_grad_(True) for p in model.parameters()]\n",
        "            for _ in range(INNER_STEPS):\n",
        "                logits = forward_with_weights(X_s, fast_weights)\n",
        "                loss = loss_fn(logits, y_s)\n",
        "                grads = torch.autograd.grad(loss, fast_weights, create_graph=True)\n",
        "                fast_weights = [w - INNER_LR * g for w, g in zip(fast_weights, grads)]\n",
        "            logits_q = forward_with_weights(X_q, fast_weights)\n",
        "            loss_q = loss_fn(logits_q, y_q)\n",
        "            meta_loss += loss_q\n",
        "            preds = logits_q.argmax(dim=1)\n",
        "            all_y_true.append(y_q)\n",
        "            all_y_pred.append(preds)\n",
        "        meta_optimizer.zero_grad()\n",
        "        meta_loss.backward()\n",
        "        meta_optimizer.step()\n",
        "        all_y_true = torch.cat(all_y_true)\n",
        "        all_y_pred = torch.cat(all_y_pred)\n",
        "        acc, f1, prec, rec = compute_metrics(all_y_true, all_y_pred)\n",
        "        print(f\"Epoch {epoch+1:2d} | Meta Loss: {meta_loss.item()/meta_batch_size:.4f} | \"\n",
        "              f\"Acc: {acc:.4f} | F1: {f1:.4f} | Prec: {prec:.4f} | Rec: {rec:.4f}\")\n",
        "    return model"
      ],
      "metadata": {
        "id": "A5-an-WPne8h"
      },
      "execution_count": null,
      "outputs": []
    },
    {
      "cell_type": "code",
      "source": [
        "# Sample task function for meta-learning\n",
        "\n",
        "def sample_task(dataset, bin_idx, k_shot, k_query):\n",
        "    idxs = dataset.bin_indices[bin_idx]\n",
        "    idxs = np.random.permutation(idxs)\n",
        "    support_idxs = idxs[:k_shot]\n",
        "    query_idxs = idxs[k_shot:k_shot + k_query]\n",
        "    X_s, y_s = zip(*[dataset[i] for i in support_idxs])\n",
        "    X_q, y_q = zip(*[dataset[i] for i in query_idxs])\n",
        "    return (torch.stack(X_s), torch.tensor(y_s)), (torch.stack(X_q), torch.tensor(y_q))"
      ],
      "metadata": {
        "id": "ympXYZ4f3vdi"
      },
      "execution_count": null,
      "outputs": []
    },
    {
      "cell_type": "code",
      "source": [
        "# 8. Train and Evaluate Baseline\n",
        "\n",
        "baseline_model = JetCNN()\n",
        "baseline_model = train_baseline(baseline_model, train_loader, val_loader)"
      ],
      "metadata": {
        "colab": {
          "base_uri": "https://localhost:8080/"
        },
        "id": "igD1nB40ng6C",
        "outputId": "822bb8fe-6267-4dc7-9a88-9a3cdc5bbea6"
      },
      "execution_count": null,
      "outputs": [
        {
          "output_type": "stream",
          "name": "stdout",
          "text": [
            "Epoch  1 | Train Loss: 0.6692 | Acc: 0.5636 | F1: 0.6205 | Prec: 0.5497 | Rec: 0.7121 || Val Loss: 0.6075 | Acc: 0.6796 | F1: 0.6884 | Prec: 0.6627 | Rec: 0.7162\n",
            "Epoch  2 | Train Loss: 0.5993 | Acc: 0.6895 | F1: 0.6999 | Prec: 0.6784 | Rec: 0.7227 || Val Loss: 0.6021 | Acc: 0.6872 | F1: 0.6910 | Prec: 0.6750 | Rec: 0.7077\n",
            "Epoch  3 | Train Loss: 0.5948 | Acc: 0.6920 | F1: 0.7029 | Prec: 0.6801 | Rec: 0.7272 || Val Loss: 0.5992 | Acc: 0.6904 | F1: 0.6939 | Prec: 0.6785 | Rec: 0.7100\n",
            "Epoch  4 | Train Loss: 0.5917 | Acc: 0.6944 | F1: 0.7052 | Prec: 0.6824 | Rec: 0.7296 || Val Loss: 0.5975 | Acc: 0.6926 | F1: 0.6962 | Prec: 0.6806 | Rec: 0.7125\n",
            "Epoch  5 | Train Loss: 0.5894 | Acc: 0.6956 | F1: 0.7069 | Prec: 0.6828 | Rec: 0.7327 || Val Loss: 0.5991 | Acc: 0.6855 | F1: 0.6580 | Prec: 0.7113 | Rec: 0.6121\n",
            "Epoch  6 | Train Loss: 0.5865 | Acc: 0.6972 | F1: 0.7073 | Prec: 0.6856 | Rec: 0.7304 || Val Loss: 0.5970 | Acc: 0.6899 | F1: 0.7189 | Prec: 0.6513 | Rec: 0.8022\n",
            "Epoch  7 | Train Loss: 0.5772 | Acc: 0.7068 | F1: 0.7106 | Prec: 0.7028 | Rec: 0.7184 || Val Loss: 0.5791 | Acc: 0.7040 | F1: 0.7144 | Prec: 0.6829 | Rec: 0.7489\n",
            "Epoch  8 | Train Loss: 0.5680 | Acc: 0.7173 | F1: 0.7185 | Prec: 0.7167 | Rec: 0.7204 || Val Loss: 0.5757 | Acc: 0.7080 | F1: 0.7224 | Prec: 0.6814 | Rec: 0.7686\n",
            "Epoch  9 | Train Loss: 0.5646 | Acc: 0.7204 | F1: 0.7215 | Prec: 0.7200 | Rec: 0.7231 || Val Loss: 0.5787 | Acc: 0.7064 | F1: 0.7276 | Prec: 0.6718 | Rec: 0.7934\n",
            "Epoch 10 | Train Loss: 0.5605 | Acc: 0.7232 | F1: 0.7246 | Prec: 0.7222 | Rec: 0.7271 || Val Loss: 0.5702 | Acc: 0.7137 | F1: 0.7261 | Prec: 0.6887 | Rec: 0.7677\n",
            "Epoch 11 | Train Loss: 0.5588 | Acc: 0.7242 | F1: 0.7251 | Prec: 0.7242 | Rec: 0.7259 || Val Loss: 0.5670 | Acc: 0.7175 | F1: 0.7204 | Prec: 0.7052 | Rec: 0.7362\n",
            "Epoch 12 | Train Loss: 0.5568 | Acc: 0.7258 | F1: 0.7267 | Prec: 0.7255 | Rec: 0.7279 || Val Loss: 0.5653 | Acc: 0.7169 | F1: 0.7224 | Prec: 0.7011 | Rec: 0.7450\n",
            "Epoch 13 | Train Loss: 0.5559 | Acc: 0.7260 | F1: 0.7261 | Prec: 0.7274 | Rec: 0.7248 || Val Loss: 0.5662 | Acc: 0.7186 | F1: 0.6989 | Prec: 0.7416 | Rec: 0.6608\n",
            "Epoch 14 | Train Loss: 0.5539 | Acc: 0.7269 | F1: 0.7272 | Prec: 0.7278 | Rec: 0.7267 || Val Loss: 0.5778 | Acc: 0.7035 | F1: 0.6567 | Prec: 0.7677 | Rec: 0.5737\n",
            "Epoch 15 | Train Loss: 0.5527 | Acc: 0.7282 | F1: 0.7283 | Prec: 0.7294 | Rec: 0.7272 || Val Loss: 0.5649 | Acc: 0.7188 | F1: 0.7108 | Prec: 0.7228 | Rec: 0.6991\n",
            "Epoch 16 | Train Loss: 0.5504 | Acc: 0.7294 | F1: 0.7293 | Prec: 0.7310 | Rec: 0.7276 || Val Loss: 0.5669 | Acc: 0.7206 | F1: 0.7171 | Prec: 0.7177 | Rec: 0.7164\n",
            "Epoch 17 | Train Loss: 0.5492 | Acc: 0.7312 | F1: 0.7304 | Prec: 0.7340 | Rec: 0.7269 || Val Loss: 0.5646 | Acc: 0.7168 | F1: 0.7235 | Prec: 0.6990 | Rec: 0.7498\n",
            "Epoch 18 | Train Loss: 0.5482 | Acc: 0.7316 | F1: 0.7309 | Prec: 0.7343 | Rec: 0.7275 || Val Loss: 0.5661 | Acc: 0.7189 | F1: 0.7007 | Prec: 0.7395 | Rec: 0.6658\n",
            "Epoch 19 | Train Loss: 0.5471 | Acc: 0.7321 | F1: 0.7314 | Prec: 0.7346 | Rec: 0.7282 || Val Loss: 0.5654 | Acc: 0.7194 | F1: 0.7198 | Prec: 0.7106 | Rec: 0.7292\n",
            "Epoch 20 | Train Loss: 0.5469 | Acc: 0.7319 | F1: 0.7306 | Prec: 0.7355 | Rec: 0.7257 || Val Loss: 0.5640 | Acc: 0.7199 | F1: 0.7189 | Prec: 0.7131 | Rec: 0.7248\n",
            "Epoch 21 | Train Loss: 0.5445 | Acc: 0.7334 | F1: 0.7318 | Prec: 0.7376 | Rec: 0.7260 || Val Loss: 0.5639 | Acc: 0.7216 | F1: 0.7220 | Prec: 0.7126 | Rec: 0.7317\n",
            "Epoch 22 | Train Loss: 0.5427 | Acc: 0.7344 | F1: 0.7329 | Prec: 0.7384 | Rec: 0.7274 || Val Loss: 0.5639 | Acc: 0.7228 | F1: 0.7115 | Prec: 0.7326 | Rec: 0.6916\n",
            "Epoch 23 | Train Loss: 0.5422 | Acc: 0.7360 | F1: 0.7349 | Prec: 0.7393 | Rec: 0.7307 || Val Loss: 0.5696 | Acc: 0.7192 | F1: 0.7270 | Prec: 0.6999 | Rec: 0.7563\n",
            "Epoch 24 | Train Loss: 0.5401 | Acc: 0.7371 | F1: 0.7357 | Prec: 0.7411 | Rec: 0.7304 || Val Loss: 0.5677 | Acc: 0.7202 | F1: 0.7029 | Prec: 0.7396 | Rec: 0.6696\n",
            "Epoch 25 | Train Loss: 0.5380 | Acc: 0.7369 | F1: 0.7352 | Prec: 0.7416 | Rec: 0.7288 || Val Loss: 0.5666 | Acc: 0.7222 | F1: 0.7173 | Prec: 0.7216 | Rec: 0.7131\n"
          ]
        }
      ]
    },
    {
      "cell_type": "code",
      "source": [
        "# 9. Train and Evaluate MAML\n",
        "\n",
        "maml_model = JetCNN()\n",
        "maml_model = maml_train(maml_model, jet_dataset, mass_bins)"
      ],
      "metadata": {
        "colab": {
          "base_uri": "https://localhost:8080/"
        },
        "id": "fPSsrcFjnisV",
        "outputId": "19781016-e97b-4611-8e49-ced2f7f634b6"
      },
      "execution_count": null,
      "outputs": [
        {
          "output_type": "stream",
          "name": "stdout",
          "text": [
            "Epoch  1 | Meta Loss: 0.6831 | Acc: 0.5781 | F1: 0.2603 | Prec: 0.5938 | Rec: 0.1667\n",
            "Epoch  2 | Meta Loss: 0.6821 | Acc: 0.5957 | F1: 0.4329 | Prec: 0.6172 | Rec: 0.3333\n",
            "Epoch  3 | Meta Loss: 0.6828 | Acc: 0.5898 | F1: 0.5474 | Prec: 0.6615 | Rec: 0.4669\n",
            "Epoch  4 | Meta Loss: 0.6832 | Acc: 0.5859 | F1: 0.5970 | Prec: 0.6133 | Rec: 0.5815\n",
            "Epoch  5 | Meta Loss: 0.6915 | Acc: 0.5039 | F1: 0.3744 | Prec: 0.5938 | Rec: 0.2734\n",
            "Epoch  6 | Meta Loss: 0.6810 | Acc: 0.6445 | F1: 0.4830 | Prec: 0.6641 | Rec: 0.3795\n",
            "Epoch  7 | Meta Loss: 0.6871 | Acc: 0.5254 | F1: 0.2569 | Prec: 0.6562 | Rec: 0.1597\n",
            "Epoch  8 | Meta Loss: 0.6899 | Acc: 0.5273 | F1: 0.2143 | Prec: 0.5156 | Rec: 0.1352\n",
            "Epoch  9 | Meta Loss: 0.6813 | Acc: 0.5938 | F1: 0.5498 | Prec: 0.6615 | Rec: 0.4704\n",
            "Epoch 10 | Meta Loss: 0.6829 | Acc: 0.5840 | F1: 0.5380 | Prec: 0.6458 | Rec: 0.4610\n",
            "Epoch 11 | Meta Loss: 0.6787 | Acc: 0.5957 | F1: 0.2983 | Prec: 0.6875 | Rec: 0.1905\n"
          ]
        },
        {
          "output_type": "stream",
          "name": "stderr",
          "text": [
            "/usr/local/lib/python3.11/dist-packages/sklearn/metrics/_classification.py:1565: UndefinedMetricWarning: Precision is ill-defined and being set to 0.0 due to no predicted samples. Use `zero_division` parameter to control this behavior.\n",
            "  _warn_prf(average, modifier, f\"{metric.capitalize()} is\", len(result))\n"
          ]
        },
        {
          "output_type": "stream",
          "name": "stdout",
          "text": [
            "Epoch 12 | Meta Loss: 0.6890 | Acc: 0.4902 | F1: 0.0000 | Prec: 0.0000 | Rec: 0.0000\n",
            "Epoch 13 | Meta Loss: 0.6833 | Acc: 0.5801 | F1: 0.4869 | Prec: 0.7969 | Rec: 0.3505\n",
            "Epoch 14 | Meta Loss: 0.6891 | Acc: 0.5410 | F1: 0.2857 | Prec: 0.7344 | Rec: 0.1774\n",
            "Epoch 15 | Meta Loss: 0.6871 | Acc: 0.5938 | F1: 0.4694 | Prec: 0.7188 | Rec: 0.3485\n",
            "Epoch 16 | Meta Loss: 0.6784 | Acc: 0.6172 | F1: 0.5525 | Prec: 0.6302 | Rec: 0.4919\n",
            "Epoch 17 | Meta Loss: 0.6802 | Acc: 0.6016 | F1: 0.2917 | Prec: 0.6562 | Rec: 0.1875\n",
            "Epoch 18 | Meta Loss: 0.6777 | Acc: 0.6445 | F1: 0.5027 | Prec: 0.7188 | Rec: 0.3866\n",
            "Epoch 19 | Meta Loss: 0.6930 | Acc: 0.4980 | F1: 0.3219 | Prec: 0.4766 | Rec: 0.2430\n",
            "Epoch 20 | Meta Loss: 0.6798 | Acc: 0.6387 | F1: 0.5952 | Prec: 0.7083 | Rec: 0.5132\n",
            "Epoch 21 | Meta Loss: 0.6843 | Acc: 0.6250 | F1: 0.6308 | Prec: 0.6406 | Rec: 0.6212\n",
            "Epoch 22 | Meta Loss: 0.6854 | Acc: 0.5566 | F1: 0.2928 | Prec: 0.7344 | Rec: 0.1829\n",
            "Epoch 23 | Meta Loss: 0.6789 | Acc: 0.6562 | F1: 0.5829 | Prec: 0.6406 | Rec: 0.5348\n",
            "Epoch 24 | Meta Loss: 0.6847 | Acc: 0.6367 | F1: 0.6504 | Prec: 0.6758 | Rec: 0.6268\n",
            "Epoch 25 | Meta Loss: 0.6863 | Acc: 0.5312 | F1: 0.1837 | Prec: 0.4219 | Rec: 0.1174\n"
          ]
        }
      ]
    },
    {
      "cell_type": "code",
      "source": [
        "# 10. Few-Shot Evaluation Function\n",
        "\n",
        "def few_shot_eval(model, dataset, mass_bins, n_tasks=None, k_shot=K_SHOT, k_query=K_QUERY, inner_steps=INNER_STEPS, inner_lr=INNER_LR):\n",
        "    model.eval()\n",
        "    all_acc, all_f1, all_prec, all_rec = [], [], [], []\n",
        "    n_bins = len(mass_bins) - 1 if n_tasks is None else n_tasks\n",
        "    for bin_idx in range(n_bins):\n",
        "        (X_s, y_s), (X_q, y_q) = sample_task(dataset, bin_idx, k_shot, k_query)\n",
        "        X_s, y_s, X_q, y_q = X_s.to(DEVICE), y_s.to(DEVICE), X_q.to(DEVICE), y_q.to(DEVICE)\n",
        "        # Fast adaptation (inner loop)\n",
        "        fast_weights = [p.clone().detach().requires_grad_(True) for p in model.parameters()]\n",
        "        loss_fn = nn.CrossEntropyLoss()\n",
        "        for _ in range(inner_steps):\n",
        "            logits = model(X_s)\n",
        "            loss = loss_fn(logits, y_s)\n",
        "            grads = torch.autograd.grad(loss, model.parameters(), create_graph=True)\n",
        "            fast_weights = [w - inner_lr * g for w, g in zip(fast_weights, grads)]\n",
        "        # Evaluate on query set\n",
        "        def forward_with_weights(x, weights):\n",
        "            # Conv1\n",
        "            x = nn.functional.conv2d(x, weights[0], weights[1], stride=2, padding=2)\n",
        "            x = nn.functional.relu(x)\n",
        "            # Conv2\n",
        "            x = nn.functional.conv2d(x, weights[2], weights[3], stride=2, padding=1)\n",
        "            x = nn.functional.relu(x)\n",
        "            # Conv3\n",
        "            x = nn.functional.conv2d(x, weights[4], weights[5], stride=2, padding=1)\n",
        "            x = nn.functional.relu(x)\n",
        "            # Conv4\n",
        "            x = nn.functional.conv2d(x, weights[6], weights[7], stride=2, padding=1)\n",
        "            x = nn.functional.relu(x)\n",
        "            # Flatten\n",
        "            x = x.view(x.size(0), -1)\n",
        "            # FC1\n",
        "            x = nn.functional.linear(x, weights[8], weights[9])\n",
        "            x = nn.functional.relu(x)\n",
        "            # FC2\n",
        "            x = nn.functional.linear(x, weights[10], weights[11])\n",
        "            return x\n",
        "        logits_q = forward_with_weights(X_q, fast_weights)\n",
        "        preds = logits_q.argmax(dim=1)\n",
        "        acc = accuracy_score(y_q.cpu().numpy(), preds.cpu().numpy())\n",
        "        f1 = f1_score(y_q.cpu().numpy(), preds.cpu().numpy())\n",
        "        prec = precision_score(y_q.cpu().numpy(), preds.cpu().numpy())\n",
        "        rec = recall_score(y_q.cpu().numpy(), preds.cpu().numpy())\n",
        "        all_acc.append(acc)\n",
        "        all_f1.append(f1)\n",
        "        all_prec.append(prec)\n",
        "        all_rec.append(rec)\n",
        "        print(f\"Bin {bin_idx}: Acc={acc:.4f} | F1={f1:.4f} | Prec={prec:.4f} | Rec={rec:.4f}\")\n",
        "    print(f\"\\nMean Few-Shot: Acc={np.mean(all_acc):.4f} | F1={np.mean(all_f1):.4f} | Prec={np.mean(all_prec):.4f} | Rec={np.mean(all_rec):.4f}\")\n",
        "    return all_acc, all_f1, all_prec, all_rec"
      ],
      "metadata": {
        "id": "UDHNCW8Fw5hX"
      },
      "execution_count": null,
      "outputs": []
    },
    {
      "cell_type": "code",
      "source": [
        "# 11. Few-Shot Evaluation for MAML and Baseline\n",
        "\n",
        "print(\"MAML Few-Shot Evaluation:\")\n",
        "few_shot_eval(maml_model, jet_dataset, mass_bins)\n",
        "\n",
        "print(\"\\nClassical Baseline Few-Shot Evaluation (no adaptation):\")\n",
        "# For baseline, skip adaptation: just forward pass\n",
        "def baseline_few_shot_eval(model, dataset, mass_bins, n_tasks=None, k_query=K_QUERY):\n",
        "    model.eval()\n",
        "    all_acc, all_f1, all_prec, all_rec = [], [], [], []\n",
        "    n_bins = len(mass_bins) - 1 if n_tasks is None else n_tasks\n",
        "    for bin_idx in range(n_bins):\n",
        "        idxs = dataset.bin_indices[bin_idx]\n",
        "        idxs = np.random.permutation(idxs)\n",
        "        query_idxs = idxs[:k_query]\n",
        "        X_q, y_q = zip(*[dataset[i] for i in query_idxs])\n",
        "        X_q = torch.stack(X_q).to(DEVICE)\n",
        "        y_q = torch.tensor(y_q).to(DEVICE)\n",
        "        with torch.no_grad():\n",
        "            logits_q = model(X_q)\n",
        "            preds = logits_q.argmax(dim=1)\n",
        "        acc = accuracy_score(y_q.cpu().numpy(), preds.cpu().numpy())\n",
        "        f1 = f1_score(y_q.cpu().numpy(), preds.cpu().numpy())\n",
        "        prec = precision_score(y_q.cpu().numpy(), preds.cpu().numpy())\n",
        "        rec = recall_score(y_q.cpu().numpy(), preds.cpu().numpy())\n",
        "        all_acc.append(acc)\n",
        "        all_f1.append(f1)\n",
        "        all_prec.append(prec)\n",
        "        all_rec.append(rec)\n",
        "        print(f\"Bin {bin_idx}: Acc={acc:.4f} | F1={f1:.4f} | Prec={prec:.4f} | Rec={rec:.4f}\")\n",
        "    print(f\"\\nMean Few-Shot: Acc={np.mean(all_acc):.4f} | F1={np.mean(all_f1):.4f} | Prec={np.mean(all_prec):.4f} | Rec={np.mean(all_rec):.4f}\")\n",
        "    return all_acc, all_f1, all_prec, all_rec\n",
        "\n",
        "baseline_few_shot_eval(baseline_model, jet_dataset, mass_bins)"
      ],
      "metadata": {
        "colab": {
          "base_uri": "https://localhost:8080/"
        },
        "id": "RnjrKesBw7H_",
        "outputId": "57542195-d2ea-4b2b-8522-6a9fc94cc447"
      },
      "execution_count": null,
      "outputs": [
        {
          "output_type": "stream",
          "name": "stdout",
          "text": [
            "MAML Few-Shot Evaluation:\n",
            "Bin 0: Acc=0.6719 | F1=0.8037 | Prec=0.6719 | Rec=1.0000\n",
            "Bin 1: Acc=0.5625 | F1=0.7200 | Prec=0.5625 | Rec=1.0000\n",
            "Bin 2: Acc=0.4688 | F1=0.0000 | Prec=0.0000 | Rec=0.0000\n",
            "Bin 3: Acc=0.5625 | F1=0.0000 | Prec=0.0000 | Rec=0.0000\n"
          ]
        },
        {
          "output_type": "stream",
          "name": "stderr",
          "text": [
            "/usr/local/lib/python3.11/dist-packages/sklearn/metrics/_classification.py:1565: UndefinedMetricWarning: Precision is ill-defined and being set to 0.0 due to no predicted samples. Use `zero_division` parameter to control this behavior.\n",
            "  _warn_prf(average, modifier, f\"{metric.capitalize()} is\", len(result))\n",
            "/usr/local/lib/python3.11/dist-packages/sklearn/metrics/_classification.py:1565: UndefinedMetricWarning: Precision is ill-defined and being set to 0.0 due to no predicted samples. Use `zero_division` parameter to control this behavior.\n",
            "  _warn_prf(average, modifier, f\"{metric.capitalize()} is\", len(result))\n",
            "/usr/local/lib/python3.11/dist-packages/sklearn/metrics/_classification.py:1565: UndefinedMetricWarning: Precision is ill-defined and being set to 0.0 due to no predicted samples. Use `zero_division` parameter to control this behavior.\n",
            "  _warn_prf(average, modifier, f\"{metric.capitalize()} is\", len(result))\n"
          ]
        },
        {
          "output_type": "stream",
          "name": "stdout",
          "text": [
            "Bin 4: Acc=0.7812 | F1=0.0000 | Prec=0.0000 | Rec=0.0000\n",
            "\n",
            "Mean Few-Shot: Acc=0.6094 | F1=0.3047 | Prec=0.2469 | Rec=0.4000\n",
            "\n",
            "Classical Baseline Few-Shot Evaluation (no adaptation):\n",
            "Bin 0: Acc=0.6250 | F1=0.7273 | Prec=0.7442 | Rec=0.7111\n",
            "Bin 1: Acc=0.7812 | F1=0.8511 | Prec=0.8163 | Rec=0.8889\n",
            "Bin 2: Acc=0.6406 | F1=0.5490 | Prec=0.5385 | Rec=0.5600\n",
            "Bin 3: Acc=0.7656 | F1=0.7541 | Prec=0.7188 | Rec=0.7931\n",
            "Bin 4: Acc=0.7812 | F1=0.5625 | Prec=0.5625 | Rec=0.5625\n",
            "\n",
            "Mean Few-Shot: Acc=0.7188 | F1=0.6888 | Prec=0.6760 | Rec=0.7031\n"
          ]
        },
        {
          "output_type": "execute_result",
          "data": {
            "text/plain": [
              "([0.625, 0.78125, 0.640625, 0.765625, 0.78125],\n",
              " [0.7272727272727273,\n",
              "  0.851063829787234,\n",
              "  0.5490196078431373,\n",
              "  0.7540983606557377,\n",
              "  0.5625],\n",
              " [0.7441860465116279, 0.8163265306122449, 0.5384615384615384, 0.71875, 0.5625],\n",
              " [0.7111111111111111, 0.8888888888888888, 0.56, 0.7931034482758621, 0.5625])"
            ]
          },
          "metadata": {},
          "execution_count": 19
        }
      ]
    },
    {
      "cell_type": "code",
      "source": [
        "# Adaptation Curve Evaluation\n",
        "\n",
        "def adaptation_curve(model, dataset, bin_idx, max_steps=ADAPTATION_STEPS, inner_lr=INNER_LR):\n",
        "    (X_s, y_s), (X_q, y_q) = sample_task(dataset, bin_idx, K_SHOT, K_QUERY)\n",
        "    X_s, y_s, X_q, y_q = X_s.to(DEVICE), y_s.to(DEVICE), X_q.to(DEVICE), y_q.to(DEVICE)\n",
        "    fast_weights = [p.clone().detach().requires_grad_(True) for p in model.parameters()]\n",
        "    loss_fn = nn.CrossEntropyLoss()\n",
        "    accs = []\n",
        "    for step in range(max_steps+1):\n",
        "        logits_q = forward_with_weights(X_q, fast_weights)\n",
        "        preds = logits_q.argmax(dim=1)\n",
        "        acc = accuracy_score(y_q.cpu().numpy(), preds.cpu().numpy())\n",
        "        accs.append(acc)\n",
        "        if step < max_steps:\n",
        "            logits_s = forward_with_weights(X_s, fast_weights)\n",
        "            loss = loss_fn(logits_s, y_s)\n",
        "            grads = torch.autograd.grad(loss, fast_weights, create_graph=True)\n",
        "            fast_weights = [w - inner_lr * g for w, g in zip(fast_weights, grads)]\n",
        "    return accs\n",
        "\n",
        "# Plot adaptation curve for a random bin\n",
        "bin_idx = random.randint(0, len(mass_bins)-2)\n",
        "maml_accs = adaptation_curve(maml_model, jet_dataset, bin_idx)\n",
        "plt.plot(range(len(maml_accs)), maml_accs, marker='o', label=\"MAML\")\n",
        "plt.xlabel(\"Inner Gradient Steps\")\n",
        "plt.ylabel(\"Query Accuracy\")\n",
        "plt.title(f\"MAML Adaptation Curve (bin {bin_idx})\")\n",
        "plt.legend()\n",
        "plt.show()"
      ],
      "metadata": {
        "colab": {
          "base_uri": "https://localhost:8080/",
          "height": 472
        },
        "id": "siBPjxX9g5mC",
        "outputId": "4b8015e4-01f7-49a2-c89b-e97ce0a53476"
      },
      "execution_count": null,
      "outputs": [
        {
          "output_type": "display_data",
          "data": {
            "text/plain": [
              "<Figure size 640x480 with 1 Axes>"
            ],
            "image/png": "[encoded data removed]"
          },
          "metadata": {}
        }
      ]
    },
    {
      "cell_type": "code",
      "source": [
        "# Baseline Adaptation Curve (for comparison)\n",
        "\n",
        "def baseline_adaptation_curve(model, dataset, bin_idx, max_steps=ADAPTATION_STEPS, inner_lr=INNER_LR):\n",
        "    (X_s, y_s), (X_q, y_q) = sample_task(dataset, bin_idx, K_SHOT, K_QUERY)\n",
        "    X_s, y_s, X_q, y_q = X_s.to(DEVICE), y_s.to(DEVICE), X_q.to(DEVICE), y_q.to(DEVICE)\n",
        "    # Start from baseline weights (no meta-learning)\n",
        "    fast_weights = [p.clone().detach().requires_grad_(True) for p in model.parameters()]\n",
        "    loss_fn = nn.CrossEntropyLoss()\n",
        "    accs = []\n",
        "    for step in range(max_steps+1):\n",
        "        logits_q = forward_with_weights(X_q, fast_weights)\n",
        "        preds = logits_q.argmax(dim=1)\n",
        "        acc = accuracy_score(y_q.cpu().numpy(), preds.cpu().numpy())\n",
        "        accs.append(acc)\n",
        "        if step < max_steps:\n",
        "            logits_s = forward_with_weights(X_s, fast_weights)\n",
        "            loss = loss_fn(logits_s, y_s)\n",
        "            grads = torch.autograd.grad(loss, fast_weights, create_graph=True)\n",
        "            fast_weights = [w - inner_lr * g for w, g in zip(fast_weights, grads)]\n",
        "    return accs\n",
        "\n",
        "baseline_accs = baseline_adaptation_curve(baseline_model, jet_dataset, bin_idx)\n",
        "plt.plot(range(len(baseline_accs)), baseline_accs, marker='o', label=\"Baseline\")\n",
        "plt.plot(range(len(maml_accs)), maml_accs, marker='o', label=\"MAML\")\n",
        "plt.xlabel(\"Inner Gradient Steps\")\n",
        "plt.ylabel(\"Query Accuracy\")\n",
        "plt.title(f\"Adaptation Curve (bin {bin_idx})\")\n",
        "plt.legend()\n",
        "plt.show()"
      ],
      "metadata": {
        "colab": {
          "base_uri": "https://localhost:8080/",
          "height": 472
        },
        "id": "xnhPwaPSg8kd",
        "outputId": "78fcbacd-d1cb-468b-fb5c-52c47cb93c39"
      },
      "execution_count": null,
      "outputs": [
        {
          "output_type": "display_data",
          "data": {
            "text/plain": [
              "<Figure size 640x480 with 1 Axes>"
            ],
            "image/png": "[encoded data removed]"
          },
          "metadata": {}
        }
      ]
    }
  ]
}