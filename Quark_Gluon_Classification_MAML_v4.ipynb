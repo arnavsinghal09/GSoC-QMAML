{
  "nbformat": 4,
  "nbformat_minor": 0,
  "metadata": {
    "colab": {
      "provenance": [],
      "gpuType": "L4",
      "machine_shape": "hm",
      "authorship_tag": "ABX9TyNNfVt1nQHheXjgPdxnVsRr",
      "include_colab_link": true
    },
    "kernelspec": {
      "name": "python3",
      "display_name": "Python 3"
    },
    "language_info": {
      "name": "python"
    },
    "accelerator": "GPU"
  },
  "cells": [
    {
      "cell_type": "markdown",
      "metadata": {
        "id": "view-in-github",
        "colab_type": "text"
      },
      "source": [
        "<a href=\"https://colab.research.google.com/github/arnavsinghal09/GSoC-QMAML/blob/main/Quark_Gluon_Classification_MAML_v4.ipynb\" target=\"_parent\"><img src=\"https://colab.research.google.com/assets/colab-badge.svg\" alt=\"Open In Colab\"/></a>"
      ]
    },
    {
      "cell_type": "code",
      "execution_count": 1,
      "metadata": {
        "colab": {
          "base_uri": "https://localhost:8080/"
        },
        "id": "GSSNKRvxVGfC",
        "outputId": "6b0c1919-fa57-4a25-8e9a-e5745480e1b5"
      },
      "outputs": [
        {
          "output_type": "stream",
          "name": "stdout",
          "text": [
            "Drive already mounted at /content/drive; to attempt to forcibly remount, call drive.mount(\"/content/drive\", force_remount=True).\n"
          ]
        }
      ],
      "source": [
        "from google.colab import drive\n",
        "drive.mount('/content/drive')"
      ]
    },
    {
      "cell_type": "code",
      "source": [
        "# 1. Imports\n",
        "\n",
        "import h5py\n",
        "import numpy as np\n",
        "import torch\n",
        "import torch.nn as nn\n",
        "import torch.optim as optim\n",
        "from torch.utils.data import Dataset, DataLoader, Subset\n",
        "from sklearn.metrics import accuracy_score, f1_score, precision_score, recall_score\n",
        "import random\n",
        "import matplotlib.pyplot as plt"
      ],
      "metadata": {
        "id": "aXBBLNaDY9rw"
      },
      "execution_count": 2,
      "outputs": []
    },
    {
      "cell_type": "code",
      "source": [
        "# 2. Hyperparameters\n",
        "\n",
        "DATA_DIR = \"/content/drive/MyDrive/quark-gluon-dataset\"\n",
        "FILES = [\n",
        "    \"quark-gluon_train-set_n793900.hdf5\",\n",
        "    \"quark-gluon_test-set_n139306.hdf5\",\n",
        "    \"quark-gluon_test-set_n10000.hdf5\"\n",
        "]\n",
        "FILE_PATHS = [f\"{DATA_DIR}/{fname}\" for fname in FILES]\n",
        "FILE_LABELS = [\"Train\", \"Test1\", \"Test2\"]\n",
        "\n",
        "BATCH_SIZE = 64\n",
        "LEARNING_RATE = 1e-4\n",
        "EPOCHS = 25\n",
        "DEVICE = torch.device(\"cuda\" if torch.cuda.is_available() else \"cpu\")\n",
        "IMG_SHAPE = (3, 125, 125)\n",
        "N_WAY = 2\n",
        "K_SHOT = 32\n",
        "K_QUERY = 64\n",
        "META_BATCH_SIZE = 8\n",
        "INNER_STEPS = 10\n",
        "INNER_LR = 0.02\n",
        "NUM_WORKERS = 2\n",
        "ADAPTATION_STEPS = 10"
      ],
      "metadata": {
        "id": "2syvlwAYZRoz"
      },
      "execution_count": 3,
      "outputs": []
    },
    {
      "cell_type": "code",
      "source": [
        "# 3. Dataset and Task Sampler\n",
        "\n",
        "class JetImageDataset(Dataset):\n",
        "    def __init__(self, X, y, pt=None, pt_bins=None):\n",
        "        self.X = X\n",
        "        self.y = y\n",
        "        self.pt = pt\n",
        "        self.pt_bins = pt_bins\n",
        "        if self.pt is not None and self.pt_bins is not None:\n",
        "            self.bin_indices = []\n",
        "            for i in range(len(pt_bins) - 1):\n",
        "                idx = np.where((pt >= pt_bins[i]) & (pt < pt_bins[i+1]))[0]\n",
        "                self.bin_indices.append(idx)\n",
        "        else:\n",
        "            self.bin_indices = [np.arange(len(y))]\n",
        "    def __len__(self):\n",
        "        return len(self.y)\n",
        "    def __getitem__(self, idx):\n",
        "        x = self.X[idx]\n",
        "        if x.shape != IMG_SHAPE:\n",
        "            x = np.transpose(x, (2, 0, 1))  # (3, 125, 125)\n",
        "        label = int(self.y[idx])\n",
        "        return torch.tensor(x, dtype=torch.float32), torch.tensor(label, dtype=torch.long)\n",
        "\n",
        "def sample_task(dataset, bin_idx, k_shot, k_query):\n",
        "    idxs = dataset.bin_indices[bin_idx]\n",
        "    idxs = np.random.permutation(idxs)\n",
        "    support_idxs = idxs[:k_shot]\n",
        "    query_idxs = idxs[k_shot:k_shot + k_query]\n",
        "    X_s, y_s = zip(*[dataset[i] for i in support_idxs])\n",
        "    X_q, y_q = zip(*[dataset[i] for i in query_idxs])\n",
        "    return (torch.stack(X_s), torch.tensor(y_s)), (torch.stack(X_q), torch.tensor(y_q))"
      ],
      "metadata": {
        "id": "d-J4ymZFmeKd"
      },
      "execution_count": 4,
      "outputs": []
    },
    {
      "cell_type": "code",
      "source": [
        "# 4. Model (Smaller CNN for MAML)\n",
        "\n",
        "class JetCNN(nn.Module):\n",
        "    def __init__(self, n_classes=2):\n",
        "        super().__init__()\n",
        "        self.net = nn.Sequential(\n",
        "            nn.Conv2d(3, 32, 5, stride=2, padding=2), nn.ReLU(),\n",
        "            nn.Conv2d(32, 64, 3, stride=2, padding=1), nn.ReLU(),\n",
        "            nn.Conv2d(64, 128, 3, stride=2, padding=1), nn.ReLU(),\n",
        "            nn.Conv2d(128, 256, 3, stride=2, padding=1), nn.ReLU(),\n",
        "            nn.Flatten(),\n",
        "            nn.Linear(256 * 8 * 8, 256), nn.ReLU(),\n",
        "            nn.Linear(256, n_classes)\n",
        "        )\n",
        "    def forward(self, x):\n",
        "        return self.net(x)"
      ],
      "metadata": {
        "id": "WueLeVuHvvAX"
      },
      "execution_count": 5,
      "outputs": []
    },
    {
      "cell_type": "code",
      "source": [
        "# 5. Data Preparation and Meta-Task Definition\n",
        "\n",
        "with h5py.File(FILE_PATHS[0], \"r\") as f:\n",
        "    X = np.array(f[\"X_jets\"][:100000])  # Use a manageable subset for Colab\n",
        "    y = np.array(f[\"y\"][:100000])\n",
        "    pt = np.array(f[\"pt\"][:100000])\n",
        "\n",
        "pt_bins = np.percentile(pt, np.linspace(0, 100, 6))\n",
        "print(\"pT bins:\", pt_bins)\n",
        "\n",
        "jet_dataset = JetImageDataset(X, y, pt=pt, pt_bins=pt_bins)\n",
        "\n",
        "indices = np.arange(len(y))\n",
        "np.random.shuffle(indices)\n",
        "split = int(0.8 * len(indices))\n",
        "train_idx, val_idx = indices[:split], indices[split:]\n",
        "train_loader = DataLoader(\n",
        "    Subset(jet_dataset, train_idx),\n",
        "    batch_size=BATCH_SIZE,\n",
        "    shuffle=True,\n",
        "    pin_memory=True,\n",
        "    num_workers=NUM_WORKERS\n",
        ")\n",
        "val_loader = DataLoader(\n",
        "    Subset(jet_dataset, val_idx),\n",
        "    batch_size=BATCH_SIZE,\n",
        "    pin_memory=True,\n",
        "    num_workers=NUM_WORKERS\n",
        ")"
      ],
      "metadata": {
        "colab": {
          "base_uri": "https://localhost:8080/"
        },
        "id": "g_sSr12cmiJK",
        "outputId": "e206050b-e0d0-4b45-ea11-0e6c2218525d"
      },
      "execution_count": 6,
      "outputs": [
        {
          "output_type": "stream",
          "name": "stdout",
          "text": [
            "pT bins: [ 70.23306274  95.22527161 105.78971405 117.68426208 135.88970642\n",
            " 323.42160034]\n"
          ]
        }
      ]
    },
    {
      "cell_type": "code",
      "source": [
        "# 6. Training Loop for Classical Baseline\n",
        "\n",
        "def compute_metrics(y_true, y_pred):\n",
        "    y_true = y_true.cpu().numpy()\n",
        "    y_pred = y_pred.cpu().numpy()\n",
        "    acc = accuracy_score(y_true, y_pred)\n",
        "    f1 = f1_score(y_true, y_pred)\n",
        "    prec = precision_score(y_true, y_pred)\n",
        "    rec = recall_score(y_true, y_pred)\n",
        "    return acc, f1, prec, rec\n",
        "\n",
        "def train_baseline(model, train_loader, val_loader, epochs=EPOCHS):\n",
        "    model = model.to(DEVICE)\n",
        "    optimizer = optim.Adam(model.parameters(), lr=LEARNING_RATE)\n",
        "    loss_fn = nn.CrossEntropyLoss()\n",
        "    for epoch in range(epochs):\n",
        "        model.train()\n",
        "        train_loss = 0\n",
        "        y_true_train, y_pred_train = [], []\n",
        "        for X, y in train_loader:\n",
        "            X, y = X.to(DEVICE), y.to(DEVICE)\n",
        "            optimizer.zero_grad()\n",
        "            logits = model(X)\n",
        "            loss = loss_fn(logits, y)\n",
        "            loss.backward()\n",
        "            optimizer.step()\n",
        "            train_loss += loss.item() * X.size(0)\n",
        "            preds = logits.argmax(dim=1)\n",
        "            y_true_train.append(y)\n",
        "            y_pred_train.append(preds)\n",
        "        y_true_train = torch.cat(y_true_train)\n",
        "        y_pred_train = torch.cat(y_pred_train)\n",
        "        train_loss /= len(train_loader.dataset)\n",
        "        train_acc, train_f1, train_prec, train_rec = compute_metrics(y_true_train, y_pred_train)\n",
        "\n",
        "        # Validation\n",
        "        model.eval()\n",
        "        val_loss = 0\n",
        "        y_true_val, y_pred_val = [], []\n",
        "        with torch.no_grad():\n",
        "            for X, y in val_loader:\n",
        "                X, y = X.to(DEVICE), y.to(DEVICE)\n",
        "                logits = model(X)\n",
        "                loss = loss_fn(logits, y)\n",
        "                val_loss += loss.item() * X.size(0)\n",
        "                preds = logits.argmax(dim=1)\n",
        "                y_true_val.append(y)\n",
        "                y_pred_val.append(preds)\n",
        "        y_true_val = torch.cat(y_true_val)\n",
        "        y_pred_val = torch.cat(y_pred_val)\n",
        "        val_loss /= len(val_loader.dataset)\n",
        "        val_acc, val_f1, val_prec, val_rec = compute_metrics(y_true_val, y_pred_val)\n",
        "\n",
        "        print(f\"Epoch {epoch+1:2d} | \"\n",
        "              f\"Train Loss: {train_loss:.4f} | Acc: {train_acc:.4f} | F1: {train_f1:.4f} | \"\n",
        "              f\"Prec: {train_prec:.4f} | Rec: {train_rec:.4f} || \"\n",
        "              f\"Val Loss: {val_loss:.4f} | Acc: {val_acc:.4f} | F1: {val_f1:.4f} | \"\n",
        "              f\"Prec: {val_prec:.4f} | Rec: {val_rec:.4f}\")\n",
        "    return model"
      ],
      "metadata": {
        "id": "mOkm3tXwndH0"
      },
      "execution_count": 7,
      "outputs": []
    },
    {
      "cell_type": "code",
      "source": [
        "# 7. MAML Meta-Learning Loop\n",
        "\n",
        "def forward_with_weights(x, weights):\n",
        "    # Conv1\n",
        "    x = nn.functional.conv2d(x, weights[0], weights[1], stride=2, padding=2)\n",
        "    x = nn.functional.relu(x)\n",
        "    # Conv2\n",
        "    x = nn.functional.conv2d(x, weights[2], weights[3], stride=2, padding=1)\n",
        "    x = nn.functional.relu(x)\n",
        "    # Conv3\n",
        "    x = nn.functional.conv2d(x, weights[4], weights[5], stride=2, padding=1)\n",
        "    x = nn.functional.relu(x)\n",
        "    # Conv4\n",
        "    x = nn.functional.conv2d(x, weights[6], weights[7], stride=2, padding=1)\n",
        "    x = nn.functional.relu(x)\n",
        "    # Flatten\n",
        "    x = x.view(x.size(0), -1)\n",
        "    # FC1\n",
        "    x = nn.functional.linear(x, weights[8], weights[9])\n",
        "    x = nn.functional.relu(x)\n",
        "    # FC2\n",
        "    x = nn.functional.linear(x, weights[10], weights[11])\n",
        "    return x\n",
        "\n",
        "def maml_train(model, dataset, pt_bins, meta_batch_size=META_BATCH_SIZE, epochs=EPOCHS):\n",
        "    model = model.to(DEVICE)\n",
        "    meta_optimizer = optim.Adam(model.parameters(), lr=LEARNING_RATE)\n",
        "    loss_fn = nn.CrossEntropyLoss()\n",
        "    for epoch in range(epochs):\n",
        "        meta_loss = 0\n",
        "        all_y_true, all_y_pred = [], []\n",
        "        for _ in range(meta_batch_size):\n",
        "            bin_idx = random.randint(0, len(pt_bins)-2)\n",
        "            (X_s, y_s), (X_q, y_q) = sample_task(dataset, bin_idx, K_SHOT, K_QUERY)\n",
        "            X_s, y_s, X_q, y_q = X_s.to(DEVICE), y_s.to(DEVICE), X_q.to(DEVICE), y_q.to(DEVICE)\n",
        "            fast_weights = [p.clone().detach().requires_grad_(True) for p in model.parameters()]\n",
        "            for _ in range(INNER_STEPS):\n",
        "                logits = forward_with_weights(X_s, fast_weights)\n",
        "                loss = loss_fn(logits, y_s)\n",
        "                grads = torch.autograd.grad(loss, fast_weights, create_graph=True)\n",
        "                fast_weights = [w - INNER_LR * g for w, g in zip(fast_weights, grads)]\n",
        "            logits_q = forward_with_weights(X_q, fast_weights)\n",
        "            loss_q = loss_fn(logits_q, y_q)\n",
        "            meta_loss += loss_q\n",
        "            preds = logits_q.argmax(dim=1)\n",
        "            all_y_true.append(y_q)\n",
        "            all_y_pred.append(preds)\n",
        "        meta_optimizer.zero_grad()\n",
        "        meta_loss.backward()\n",
        "        meta_optimizer.step()\n",
        "        all_y_true = torch.cat(all_y_true)\n",
        "        all_y_pred = torch.cat(all_y_pred)\n",
        "        acc, f1, prec, rec = compute_metrics(all_y_true, all_y_pred)\n",
        "        print(f\"Epoch {epoch+1:2d} | Meta Loss: {meta_loss.item()/meta_batch_size:.4f} | \"\n",
        "              f\"Acc: {acc:.4f} | F1: {f1:.4f} | Prec: {prec:.4f} | Rec: {rec:.4f}\")\n",
        "    return model"
      ],
      "metadata": {
        "id": "A5-an-WPne8h"
      },
      "execution_count": 8,
      "outputs": []
    },
    {
      "cell_type": "code",
      "source": [
        "# 8. Train and Evaluate Baseline\n",
        "\n",
        "baseline_model = JetCNN()\n",
        "baseline_model = train_baseline(baseline_model, train_loader, val_loader)"
      ],
      "metadata": {
        "colab": {
          "base_uri": "https://localhost:8080/"
        },
        "id": "igD1nB40ng6C",
        "outputId": "64b5bf9a-9800-4e68-9d6d-aeba09851b79"
      },
      "execution_count": 9,
      "outputs": [
        {
          "output_type": "stream",
          "name": "stdout",
          "text": [
            "Epoch  1 | Train Loss: 0.6828 | Acc: 0.5357 | F1: 0.5596 | Prec: 0.5309 | Rec: 0.5917 || Val Loss: 0.6198 | Acc: 0.6826 | F1: 0.6833 | Prec: 0.6868 | Rec: 0.6798\n",
            "Epoch  2 | Train Loss: 0.6047 | Acc: 0.6858 | F1: 0.6860 | Prec: 0.6836 | Rec: 0.6885 || Val Loss: 0.5951 | Acc: 0.6931 | F1: 0.7028 | Prec: 0.6859 | Rec: 0.7206\n",
            "Epoch  3 | Train Loss: 0.5956 | Acc: 0.6905 | F1: 0.6969 | Prec: 0.6810 | Rec: 0.7135 || Val Loss: 0.5951 | Acc: 0.6927 | F1: 0.7177 | Prec: 0.6677 | Rec: 0.7758\n",
            "Epoch  4 | Train Loss: 0.5940 | Acc: 0.6920 | F1: 0.7010 | Prec: 0.6794 | Rec: 0.7241 || Val Loss: 0.5925 | Acc: 0.6972 | F1: 0.7075 | Prec: 0.6886 | Rec: 0.7275\n",
            "Epoch  5 | Train Loss: 0.5921 | Acc: 0.6939 | F1: 0.7011 | Prec: 0.6832 | Rec: 0.7200 || Val Loss: 0.5891 | Acc: 0.6999 | F1: 0.7137 | Prec: 0.6869 | Rec: 0.7426\n",
            "Epoch  6 | Train Loss: 0.5870 | Acc: 0.6974 | F1: 0.7036 | Prec: 0.6877 | Rec: 0.7203 || Val Loss: 0.5804 | Acc: 0.7056 | F1: 0.7111 | Prec: 0.7028 | Rec: 0.7196\n",
            "Epoch  7 | Train Loss: 0.5748 | Acc: 0.7099 | F1: 0.7100 | Prec: 0.7078 | Rec: 0.7121 || Val Loss: 0.5736 | Acc: 0.7105 | F1: 0.6928 | Prec: 0.7439 | Rec: 0.6483\n",
            "Epoch  8 | Train Loss: 0.5676 | Acc: 0.7164 | F1: 0.7172 | Prec: 0.7134 | Rec: 0.7209 || Val Loss: 0.5650 | Acc: 0.7174 | F1: 0.7166 | Prec: 0.7237 | Rec: 0.7097\n",
            "Epoch  9 | Train Loss: 0.5642 | Acc: 0.7180 | F1: 0.7186 | Prec: 0.7151 | Rec: 0.7221 || Val Loss: 0.5609 | Acc: 0.7250 | F1: 0.7266 | Prec: 0.7276 | Rec: 0.7257\n",
            "Epoch 10 | Train Loss: 0.5627 | Acc: 0.7200 | F1: 0.7201 | Prec: 0.7178 | Rec: 0.7224 || Val Loss: 0.5590 | Acc: 0.7261 | F1: 0.7254 | Prec: 0.7327 | Rec: 0.7182\n",
            "Epoch 11 | Train Loss: 0.5610 | Acc: 0.7208 | F1: 0.7209 | Prec: 0.7187 | Rec: 0.7231 || Val Loss: 0.5586 | Acc: 0.7257 | F1: 0.7295 | Prec: 0.7246 | Rec: 0.7344\n",
            "Epoch 12 | Train Loss: 0.5587 | Acc: 0.7234 | F1: 0.7231 | Prec: 0.7219 | Rec: 0.7243 || Val Loss: 0.5641 | Acc: 0.7217 | F1: 0.7253 | Prec: 0.7209 | Rec: 0.7298\n",
            "Epoch 13 | Train Loss: 0.5569 | Acc: 0.7232 | F1: 0.7229 | Prec: 0.7218 | Rec: 0.7241 || Val Loss: 0.5622 | Acc: 0.7215 | F1: 0.7394 | Prec: 0.6990 | Rec: 0.7846\n",
            "Epoch 14 | Train Loss: 0.5567 | Acc: 0.7234 | F1: 0.7227 | Prec: 0.7225 | Rec: 0.7230 || Val Loss: 0.5594 | Acc: 0.7278 | F1: 0.7356 | Prec: 0.7198 | Rec: 0.7521\n",
            "Epoch 15 | Train Loss: 0.5550 | Acc: 0.7261 | F1: 0.7249 | Prec: 0.7261 | Rec: 0.7237 || Val Loss: 0.5589 | Acc: 0.7240 | F1: 0.7144 | Prec: 0.7459 | Rec: 0.6854\n",
            "Epoch 16 | Train Loss: 0.5546 | Acc: 0.7261 | F1: 0.7249 | Prec: 0.7260 | Rec: 0.7238 || Val Loss: 0.5659 | Acc: 0.7203 | F1: 0.6948 | Prec: 0.7711 | Rec: 0.6322\n",
            "Epoch 17 | Train Loss: 0.5527 | Acc: 0.7266 | F1: 0.7253 | Prec: 0.7269 | Rec: 0.7236 || Val Loss: 0.5597 | Acc: 0.7257 | F1: 0.7140 | Prec: 0.7516 | Rec: 0.6800\n",
            "Epoch 18 | Train Loss: 0.5518 | Acc: 0.7268 | F1: 0.7250 | Prec: 0.7278 | Rec: 0.7222 || Val Loss: 0.5576 | Acc: 0.7287 | F1: 0.7370 | Prec: 0.7198 | Rec: 0.7549\n",
            "Epoch 19 | Train Loss: 0.5511 | Acc: 0.7277 | F1: 0.7256 | Prec: 0.7291 | Rec: 0.7221 || Val Loss: 0.5552 | Acc: 0.7304 | F1: 0.7343 | Prec: 0.7288 | Rec: 0.7398\n",
            "Epoch 20 | Train Loss: 0.5494 | Acc: 0.7287 | F1: 0.7267 | Prec: 0.7300 | Rec: 0.7235 || Val Loss: 0.5579 | Acc: 0.7284 | F1: 0.7201 | Prec: 0.7482 | Rec: 0.6941\n",
            "Epoch 21 | Train Loss: 0.5492 | Acc: 0.7290 | F1: 0.7263 | Prec: 0.7314 | Rec: 0.7213 || Val Loss: 0.5568 | Acc: 0.7302 | F1: 0.7393 | Prec: 0.7199 | Rec: 0.7598\n",
            "Epoch 22 | Train Loss: 0.5473 | Acc: 0.7304 | F1: 0.7276 | Prec: 0.7333 | Rec: 0.7219 || Val Loss: 0.5573 | Acc: 0.7308 | F1: 0.7397 | Prec: 0.7207 | Rec: 0.7597\n",
            "Epoch 23 | Train Loss: 0.5461 | Acc: 0.7306 | F1: 0.7273 | Prec: 0.7342 | Rec: 0.7206 || Val Loss: 0.5631 | Acc: 0.7248 | F1: 0.7429 | Prec: 0.7015 | Rec: 0.7895\n",
            "Epoch 24 | Train Loss: 0.5456 | Acc: 0.7308 | F1: 0.7277 | Prec: 0.7339 | Rec: 0.7216 || Val Loss: 0.5565 | Acc: 0.7328 | F1: 0.7346 | Prec: 0.7348 | Rec: 0.7344\n",
            "Epoch 25 | Train Loss: 0.5437 | Acc: 0.7328 | F1: 0.7300 | Prec: 0.7356 | Rec: 0.7245 || Val Loss: 0.5571 | Acc: 0.7307 | F1: 0.7377 | Prec: 0.7238 | Rec: 0.7522\n"
          ]
        }
      ]
    },
    {
      "cell_type": "code",
      "source": [
        "# 9. Train and Evaluate MAML\n",
        "\n",
        "maml_model = JetCNN()\n",
        "maml_model = maml_train(maml_model, jet_dataset, pt_bins)"
      ],
      "metadata": {
        "colab": {
          "base_uri": "https://localhost:8080/"
        },
        "id": "fPSsrcFjnisV",
        "outputId": "02acb9e2-3764-4487-cba0-a3eaf93f10aa"
      },
      "execution_count": 10,
      "outputs": [
        {
          "output_type": "stream",
          "name": "stdout",
          "text": [
            "Epoch  1 | Meta Loss: 0.6953 | Acc: 0.4844 | F1: 0.2096 | Prec: 0.5469 | Rec: 0.1296\n",
            "Epoch  2 | Meta Loss: 0.6945 | Acc: 0.4727 | F1: 0.3112 | Prec: 0.4766 | Rec: 0.2311\n",
            "Epoch  3 | Meta Loss: 0.6956 | Acc: 0.4805 | F1: 0.4062 | Prec: 0.4740 | Rec: 0.3555\n",
            "Epoch  4 | Meta Loss: 0.6916 | Acc: 0.5547 | F1: 0.3904 | Prec: 0.5703 | Rec: 0.2967\n",
            "Epoch  5 | Meta Loss: 0.6935 | Acc: 0.4824 | F1: 0.1945 | Prec: 0.5000 | Rec: 0.1208\n"
          ]
        },
        {
          "output_type": "stream",
          "name": "stderr",
          "text": [
            "/usr/local/lib/python3.11/dist-packages/sklearn/metrics/_classification.py:1565: UndefinedMetricWarning: Precision is ill-defined and being set to 0.0 due to no predicted samples. Use `zero_division` parameter to control this behavior.\n",
            "  _warn_prf(average, modifier, f\"{metric.capitalize()} is\", len(result))\n"
          ]
        },
        {
          "output_type": "stream",
          "name": "stdout",
          "text": [
            "Epoch  6 | Meta Loss: 0.6929 | Acc: 0.5078 | F1: 0.0000 | Prec: 0.0000 | Rec: 0.0000\n",
            "Epoch  7 | Meta Loss: 0.6880 | Acc: 0.5430 | F1: 0.3641 | Prec: 0.5234 | Rec: 0.2792\n"
          ]
        },
        {
          "output_type": "stream",
          "name": "stderr",
          "text": [
            "/usr/local/lib/python3.11/dist-packages/sklearn/metrics/_classification.py:1565: UndefinedMetricWarning: Precision is ill-defined and being set to 0.0 due to no predicted samples. Use `zero_division` parameter to control this behavior.\n",
            "  _warn_prf(average, modifier, f\"{metric.capitalize()} is\", len(result))\n"
          ]
        },
        {
          "output_type": "stream",
          "name": "stdout",
          "text": [
            "Epoch  8 | Meta Loss: 0.6949 | Acc: 0.4961 | F1: 0.0000 | Prec: 0.0000 | Rec: 0.0000\n",
            "Epoch  9 | Meta Loss: 0.6901 | Acc: 0.5156 | F1: 0.4038 | Prec: 0.4375 | Rec: 0.3750\n",
            "Epoch 10 | Meta Loss: 0.6892 | Acc: 0.5605 | F1: 0.3662 | Prec: 0.5078 | Rec: 0.2863\n"
          ]
        },
        {
          "output_type": "stream",
          "name": "stderr",
          "text": [
            "/usr/local/lib/python3.11/dist-packages/sklearn/metrics/_classification.py:1565: UndefinedMetricWarning: Precision is ill-defined and being set to 0.0 due to no predicted samples. Use `zero_division` parameter to control this behavior.\n",
            "  _warn_prf(average, modifier, f\"{metric.capitalize()} is\", len(result))\n"
          ]
        },
        {
          "output_type": "stream",
          "name": "stdout",
          "text": [
            "Epoch 11 | Meta Loss: 0.6941 | Acc: 0.4863 | F1: 0.0000 | Prec: 0.0000 | Rec: 0.0000\n",
            "Epoch 12 | Meta Loss: 0.6910 | Acc: 0.5273 | F1: 0.3495 | Prec: 0.5078 | Rec: 0.2664\n",
            "Epoch 13 | Meta Loss: 0.6928 | Acc: 0.5059 | F1: 0.2263 | Prec: 0.5781 | Rec: 0.1407\n",
            "Epoch 14 | Meta Loss: 0.6936 | Acc: 0.5000 | F1: 0.5096 | Prec: 0.5195 | Rec: 0.5000\n"
          ]
        },
        {
          "output_type": "stream",
          "name": "stderr",
          "text": [
            "/usr/local/lib/python3.11/dist-packages/sklearn/metrics/_classification.py:1565: UndefinedMetricWarning: Precision is ill-defined and being set to 0.0 due to no predicted samples. Use `zero_division` parameter to control this behavior.\n",
            "  _warn_prf(average, modifier, f\"{metric.capitalize()} is\", len(result))\n"
          ]
        },
        {
          "output_type": "stream",
          "name": "stdout",
          "text": [
            "Epoch 15 | Meta Loss: 0.6948 | Acc: 0.4961 | F1: 0.0000 | Prec: 0.0000 | Rec: 0.0000\n"
          ]
        },
        {
          "output_type": "stream",
          "name": "stderr",
          "text": [
            "/usr/local/lib/python3.11/dist-packages/sklearn/metrics/_classification.py:1565: UndefinedMetricWarning: Precision is ill-defined and being set to 0.0 due to no predicted samples. Use `zero_division` parameter to control this behavior.\n",
            "  _warn_prf(average, modifier, f\"{metric.capitalize()} is\", len(result))\n"
          ]
        },
        {
          "output_type": "stream",
          "name": "stdout",
          "text": [
            "Epoch 16 | Meta Loss: 0.6924 | Acc: 0.5039 | F1: 0.0000 | Prec: 0.0000 | Rec: 0.0000\n",
            "Epoch 17 | Meta Loss: 0.6879 | Acc: 0.5469 | F1: 0.3763 | Prec: 0.5469 | Rec: 0.2869\n"
          ]
        },
        {
          "output_type": "stream",
          "name": "stderr",
          "text": [
            "/usr/local/lib/python3.11/dist-packages/sklearn/metrics/_classification.py:1565: UndefinedMetricWarning: Precision is ill-defined and being set to 0.0 due to no predicted samples. Use `zero_division` parameter to control this behavior.\n",
            "  _warn_prf(average, modifier, f\"{metric.capitalize()} is\", len(result))\n"
          ]
        },
        {
          "output_type": "stream",
          "name": "stdout",
          "text": [
            "Epoch 18 | Meta Loss: 0.6934 | Acc: 0.4941 | F1: 0.0000 | Prec: 0.0000 | Rec: 0.0000\n",
            "Epoch 19 | Meta Loss: 0.6941 | Acc: 0.4863 | F1: 0.1858 | Prec: 0.4688 | Rec: 0.1158\n",
            "Epoch 20 | Meta Loss: 0.6869 | Acc: 0.5664 | F1: 0.5356 | Prec: 0.5000 | Rec: 0.5766\n",
            "Epoch 21 | Meta Loss: 0.6895 | Acc: 0.5762 | F1: 0.3887 | Prec: 0.5391 | Rec: 0.3040\n",
            "Epoch 22 | Meta Loss: 0.6915 | Acc: 0.5234 | F1: 0.4404 | Prec: 0.5000 | Rec: 0.3934\n",
            "Epoch 23 | Meta Loss: 0.6935 | Acc: 0.4941 | F1: 0.3443 | Prec: 0.5312 | Rec: 0.2547\n",
            "Epoch 24 | Meta Loss: 0.6970 | Acc: 0.4824 | F1: 0.2090 | Prec: 0.5469 | Rec: 0.1292\n",
            "Epoch 25 | Meta Loss: 0.6921 | Acc: 0.5176 | F1: 0.3778 | Prec: 0.5859 | Rec: 0.2788\n"
          ]
        }
      ]
    },
    {
      "cell_type": "code",
      "source": [
        "# 10. Few-Shot Evaluation Function\n",
        "\n",
        "def few_shot_eval(model, dataset, pt_bins, n_tasks=None, k_shot=K_SHOT, k_query=K_QUERY, inner_steps=INNER_STEPS, inner_lr=INNER_LR):\n",
        "    model.eval()\n",
        "    all_acc, all_f1, all_prec, all_rec = [], [], [], []\n",
        "    n_bins = len(pt_bins) - 1 if n_tasks is None else n_tasks\n",
        "    for bin_idx in range(n_bins):\n",
        "        (X_s, y_s), (X_q, y_q) = sample_task(dataset, bin_idx, k_shot, k_query)\n",
        "        X_s, y_s, X_q, y_q = X_s.to(DEVICE), y_s.to(DEVICE), X_q.to(DEVICE), y_q.to(DEVICE)\n",
        "        # Fast adaptation (inner loop)\n",
        "        fast_weights = [p.clone().detach().requires_grad_(True) for p in model.parameters()]\n",
        "        loss_fn = nn.CrossEntropyLoss()\n",
        "        for _ in range(inner_steps):\n",
        "            logits = model(X_s)\n",
        "            loss = loss_fn(logits, y_s)\n",
        "            grads = torch.autograd.grad(loss, model.parameters(), create_graph=True)\n",
        "            fast_weights = [w - inner_lr * g for w, g in zip(fast_weights, grads)]\n",
        "        # Evaluate on query set\n",
        "        def forward_with_weights(x, weights):\n",
        "            # Conv1\n",
        "            x = nn.functional.conv2d(x, weights[0], weights[1], stride=2, padding=2)\n",
        "            x = nn.functional.relu(x)\n",
        "            # Conv2\n",
        "            x = nn.functional.conv2d(x, weights[2], weights[3], stride=2, padding=1)\n",
        "            x = nn.functional.relu(x)\n",
        "            # Conv3\n",
        "            x = nn.functional.conv2d(x, weights[4], weights[5], stride=2, padding=1)\n",
        "            x = nn.functional.relu(x)\n",
        "            # Conv4\n",
        "            x = nn.functional.conv2d(x, weights[6], weights[7], stride=2, padding=1)\n",
        "            x = nn.functional.relu(x)\n",
        "            # Flatten\n",
        "            x = x.view(x.size(0), -1)\n",
        "            # FC1\n",
        "            x = nn.functional.linear(x, weights[8], weights[9])\n",
        "            x = nn.functional.relu(x)\n",
        "            # FC2\n",
        "            x = nn.functional.linear(x, weights[10], weights[11])\n",
        "            return x\n",
        "        logits_q = forward_with_weights(X_q, fast_weights)\n",
        "        preds = logits_q.argmax(dim=1)\n",
        "        acc = accuracy_score(y_q.cpu().numpy(), preds.cpu().numpy())\n",
        "        f1 = f1_score(y_q.cpu().numpy(), preds.cpu().numpy())\n",
        "        prec = precision_score(y_q.cpu().numpy(), preds.cpu().numpy())\n",
        "        rec = recall_score(y_q.cpu().numpy(), preds.cpu().numpy())\n",
        "        all_acc.append(acc)\n",
        "        all_f1.append(f1)\n",
        "        all_prec.append(prec)\n",
        "        all_rec.append(rec)\n",
        "        print(f\"Bin {bin_idx}: Acc={acc:.4f} | F1={f1:.4f} | Prec={prec:.4f} | Rec={rec:.4f}\")\n",
        "    print(f\"\\nMean Few-Shot: Acc={np.mean(all_acc):.4f} | F1={np.mean(all_f1):.4f} | Prec={np.mean(all_prec):.4f} | Rec={np.mean(all_rec):.4f}\")\n",
        "    return all_acc, all_f1, all_prec, all_rec"
      ],
      "metadata": {
        "id": "UDHNCW8Fw5hX"
      },
      "execution_count": 11,
      "outputs": []
    },
    {
      "cell_type": "code",
      "source": [
        "# 11. Few-Shot Evaluation for MAML and Baseline\n",
        "\n",
        "print(\"MAML Few-Shot Evaluation:\")\n",
        "few_shot_eval(maml_model, jet_dataset, pt_bins)\n",
        "\n",
        "print(\"\\nClassical Baseline Few-Shot Evaluation (no adaptation):\")\n",
        "# For baseline, skip adaptation: just forward pass\n",
        "def baseline_few_shot_eval(model, dataset, pt_bins, n_tasks=None, k_query=K_QUERY):\n",
        "    model.eval()\n",
        "    all_acc, all_f1, all_prec, all_rec = [], [], [], []\n",
        "    n_bins = len(pt_bins) - 1 if n_tasks is None else n_tasks\n",
        "    for bin_idx in range(n_bins):\n",
        "        idxs = dataset.bin_indices[bin_idx]\n",
        "        idxs = np.random.permutation(idxs)\n",
        "        query_idxs = idxs[:k_query]\n",
        "        X_q, y_q = zip(*[dataset[i] for i in query_idxs])\n",
        "        X_q = torch.stack(X_q).to(DEVICE)\n",
        "        y_q = torch.tensor(y_q).to(DEVICE)\n",
        "        with torch.no_grad():\n",
        "            logits_q = model(X_q)\n",
        "            preds = logits_q.argmax(dim=1)\n",
        "        acc = accuracy_score(y_q.cpu().numpy(), preds.cpu().numpy())\n",
        "        f1 = f1_score(y_q.cpu().numpy(), preds.cpu().numpy())\n",
        "        prec = precision_score(y_q.cpu().numpy(), preds.cpu().numpy())\n",
        "        rec = recall_score(y_q.cpu().numpy(), preds.cpu().numpy())\n",
        "        all_acc.append(acc)\n",
        "        all_f1.append(f1)\n",
        "        all_prec.append(prec)\n",
        "        all_rec.append(rec)\n",
        "        print(f\"Bin {bin_idx}: Acc={acc:.4f} | F1={f1:.4f} | Prec={prec:.4f} | Rec={rec:.4f}\")\n",
        "    print(f\"\\nMean Few-Shot: Acc={np.mean(all_acc):.4f} | F1={np.mean(all_f1):.4f} | Prec={np.mean(all_prec):.4f} | Rec={np.mean(all_rec):.4f}\")\n",
        "    return all_acc, all_f1, all_prec, all_rec\n",
        "\n",
        "baseline_few_shot_eval(baseline_model, jet_dataset, pt_bins)"
      ],
      "metadata": {
        "colab": {
          "base_uri": "https://localhost:8080/"
        },
        "id": "RnjrKesBw7H_",
        "outputId": "cdc86bad-2056-41b3-abac-021e2f194dc1"
      },
      "execution_count": 12,
      "outputs": [
        {
          "output_type": "stream",
          "name": "stdout",
          "text": [
            "MAML Few-Shot Evaluation:\n",
            "Bin 0: Acc=0.5312 | F1=0.0000 | Prec=0.0000 | Rec=0.0000\n",
            "Bin 1: Acc=0.5469 | F1=0.7071 | Prec=0.5469 | Rec=1.0000\n",
            "Bin 2: Acc=0.5000 | F1=0.6667 | Prec=0.5000 | Rec=1.0000\n",
            "Bin 3: Acc=0.5781 | F1=0.7327 | Prec=0.5781 | Rec=1.0000\n"
          ]
        },
        {
          "output_type": "stream",
          "name": "stderr",
          "text": [
            "/usr/local/lib/python3.11/dist-packages/sklearn/metrics/_classification.py:1565: UndefinedMetricWarning: Precision is ill-defined and being set to 0.0 due to no predicted samples. Use `zero_division` parameter to control this behavior.\n",
            "  _warn_prf(average, modifier, f\"{metric.capitalize()} is\", len(result))\n"
          ]
        },
        {
          "output_type": "stream",
          "name": "stdout",
          "text": [
            "Bin 4: Acc=0.5000 | F1=0.6667 | Prec=0.5000 | Rec=1.0000\n",
            "\n",
            "Mean Few-Shot: Acc=0.5312 | F1=0.5546 | Prec=0.4250 | Rec=0.8000\n",
            "\n",
            "Classical Baseline Few-Shot Evaluation (no adaptation):\n",
            "Bin 0: Acc=0.6875 | F1=0.6154 | Prec=0.6667 | Rec=0.5714\n",
            "Bin 1: Acc=0.8125 | F1=0.8182 | Prec=0.7941 | Rec=0.8438\n",
            "Bin 2: Acc=0.7969 | F1=0.7869 | Prec=0.7742 | Rec=0.8000\n",
            "Bin 3: Acc=0.7500 | F1=0.7647 | Prec=0.7647 | Rec=0.7647\n",
            "Bin 4: Acc=0.7500 | F1=0.7419 | Prec=0.6389 | Rec=0.8846\n",
            "\n",
            "Mean Few-Shot: Acc=0.7594 | F1=0.7454 | Prec=0.7277 | Rec=0.7729\n"
          ]
        },
        {
          "output_type": "execute_result",
          "data": {
            "text/plain": [
              "([0.6875, 0.8125, 0.796875, 0.75, 0.75],\n",
              " [0.6153846153846154,\n",
              "  0.8181818181818182,\n",
              "  0.7868852459016393,\n",
              "  0.7647058823529411,\n",
              "  0.7419354838709677],\n",
              " [0.6666666666666666,\n",
              "  0.7941176470588235,\n",
              "  0.7741935483870968,\n",
              "  0.7647058823529411,\n",
              "  0.6388888888888888],\n",
              " [0.5714285714285714, 0.84375, 0.8, 0.7647058823529411, 0.8846153846153846])"
            ]
          },
          "metadata": {},
          "execution_count": 12
        }
      ]
    },
    {
      "cell_type": "code",
      "source": [
        "# Adaptation Curve Evaluation\n",
        "\n",
        "def adaptation_curve(model, dataset, bin_idx, max_steps=ADAPTATION_STEPS, inner_lr=INNER_LR):\n",
        "    (X_s, y_s), (X_q, y_q) = sample_task(dataset, bin_idx, K_SHOT, K_QUERY)\n",
        "    X_s, y_s, X_q, y_q = X_s.to(DEVICE), y_s.to(DEVICE), X_q.to(DEVICE), y_q.to(DEVICE)\n",
        "    fast_weights = [p.clone().detach().requires_grad_(True) for p in model.parameters()]\n",
        "    loss_fn = nn.CrossEntropyLoss()\n",
        "    accs = []\n",
        "    for step in range(max_steps+1):\n",
        "        logits_q = forward_with_weights(X_q, fast_weights)\n",
        "        preds = logits_q.argmax(dim=1)\n",
        "        acc = accuracy_score(y_q.cpu().numpy(), preds.cpu().numpy())\n",
        "        accs.append(acc)\n",
        "        if step < max_steps:\n",
        "            logits_s = forward_with_weights(X_s, fast_weights)\n",
        "            loss = loss_fn(logits_s, y_s)\n",
        "            grads = torch.autograd.grad(loss, fast_weights, create_graph=True)\n",
        "            fast_weights = [w - inner_lr * g for w, g in zip(fast_weights, grads)]\n",
        "    return accs\n",
        "\n",
        "# Plot adaptation curve for a random bin\n",
        "bin_idx = random.randint(0, len(pt_bins)-2)\n",
        "maml_accs = adaptation_curve(maml_model, jet_dataset, bin_idx)\n",
        "plt.plot(range(len(maml_accs)), maml_accs, marker='o', label=\"MAML\")\n",
        "plt.xlabel(\"Inner Gradient Steps\")\n",
        "plt.ylabel(\"Query Accuracy\")\n",
        "plt.title(f\"MAML Adaptation Curve (bin {bin_idx})\")\n",
        "plt.legend()\n",
        "plt.show()"
      ],
      "metadata": {
        "colab": {
          "base_uri": "https://localhost:8080/",
          "height": 472
        },
        "id": "siBPjxX9g5mC",
        "outputId": "6f2b9343-4535-4035-da00-dceb50bc2a93"
      },
      "execution_count": 13,
      "outputs": [
        {
          "output_type": "display_data",
          "data": {
            "text/plain": [
              "<Figure size 640x480 with 1 Axes>"
            ],
            "image/png": "[encoded data removed]"
          },
          "metadata": {}
        }
      ]
    },
    {
      "cell_type": "code",
      "source": [
        "# Baseline Adaptation Curve (for comparison)\n",
        "\n",
        "def baseline_adaptation_curve(model, dataset, bin_idx, max_steps=ADAPTATION_STEPS, inner_lr=INNER_LR):\n",
        "    (X_s, y_s), (X_q, y_q) = sample_task(dataset, bin_idx, K_SHOT, K_QUERY)\n",
        "    X_s, y_s, X_q, y_q = X_s.to(DEVICE), y_s.to(DEVICE), X_q.to(DEVICE), y_q.to(DEVICE)\n",
        "    # Start from baseline weights (no meta-learning)\n",
        "    fast_weights = [p.clone().detach().requires_grad_(True) for p in model.parameters()]\n",
        "    loss_fn = nn.CrossEntropyLoss()\n",
        "    accs = []\n",
        "    for step in range(max_steps+1):\n",
        "        logits_q = forward_with_weights(X_q, fast_weights)\n",
        "        preds = logits_q.argmax(dim=1)\n",
        "        acc = accuracy_score(y_q.cpu().numpy(), preds.cpu().numpy())\n",
        "        accs.append(acc)\n",
        "        if step < max_steps:\n",
        "            logits_s = forward_with_weights(X_s, fast_weights)\n",
        "            loss = loss_fn(logits_s, y_s)\n",
        "            grads = torch.autograd.grad(loss, fast_weights, create_graph=True)\n",
        "            fast_weights = [w - inner_lr * g for w, g in zip(fast_weights, grads)]\n",
        "    return accs\n",
        "\n",
        "baseline_accs = baseline_adaptation_curve(baseline_model, jet_dataset, bin_idx)\n",
        "plt.plot(range(len(baseline_accs)), baseline_accs, marker='o', label=\"Baseline\")\n",
        "plt.plot(range(len(maml_accs)), maml_accs, marker='o', label=\"MAML\")\n",
        "plt.xlabel(\"Inner Gradient Steps\")\n",
        "plt.ylabel(\"Query Accuracy\")\n",
        "plt.title(f\"Adaptation Curve (bin {bin_idx})\")\n",
        "plt.legend()\n",
        "plt.show()"
      ],
      "metadata": {
        "colab": {
          "base_uri": "https://localhost:8080/",
          "height": 472
        },
        "id": "xnhPwaPSg8kd",
        "outputId": "d69aa44d-a2d3-4df0-c06d-753475782841"
      },
      "execution_count": 14,
      "outputs": [
        {
          "output_type": "display_data",
          "data": {
            "text/plain": [
              "<Figure size 640x480 with 1 Axes>"
            ],
            "image/png": "[encoded data removed]"
          },
          "metadata": {}
        }
      ]
    }
  ]
}